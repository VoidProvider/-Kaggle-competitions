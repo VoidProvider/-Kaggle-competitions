{
 "cells": [
  {
   "cell_type": "code",
   "execution_count": 1,
   "id": "d2d50741",
   "metadata": {
    "_cell_guid": "b1076dfc-b9ad-4769-8c92-a6c4dae69d19",
    "_uuid": "8f2839f25d086af736a60e9eeb907d3b93b6e0e5",
    "execution": {
     "iopub.execute_input": "2023-01-13T00:18:17.239452Z",
     "iopub.status.busy": "2023-01-13T00:18:17.238576Z",
     "iopub.status.idle": "2023-01-13T00:18:18.506984Z",
     "shell.execute_reply": "2023-01-13T00:18:18.505923Z"
    },
    "papermill": {
     "duration": 1.283607,
     "end_time": "2023-01-13T00:18:18.510143",
     "exception": false,
     "start_time": "2023-01-13T00:18:17.226536",
     "status": "completed"
    },
    "tags": []
   },
   "outputs": [],
   "source": [
    "import numpy as np \n",
    "import pandas as pd \n",
    "import matplotlib.pyplot as plt\n",
    "\n",
    "from sklearn.feature_extraction.text import TfidfVectorizer\n",
    "from sklearn.pipeline import Pipeline, FeatureUnion\n",
    "from sklearn.ensemble import RandomForestClassifier\n",
    "from sklearn.preprocessing import FunctionTransformer\n",
    "from sklearn.model_selection import GridSearchCV, StratifiedKFold\n"
   ]
  },
  {
   "cell_type": "code",
   "execution_count": 2,
   "id": "b9e807ac",
   "metadata": {
    "execution": {
     "iopub.execute_input": "2023-01-13T00:18:18.524514Z",
     "iopub.status.busy": "2023-01-13T00:18:18.524167Z",
     "iopub.status.idle": "2023-01-13T00:18:18.529409Z",
     "shell.execute_reply": "2023-01-13T00:18:18.528355Z"
    },
    "papermill": {
     "duration": 0.014613,
     "end_time": "2023-01-13T00:18:18.531520",
     "exception": false,
     "start_time": "2023-01-13T00:18:18.516907",
     "status": "completed"
    },
    "tags": []
   },
   "outputs": [],
   "source": [
    "pd.set_option('display.max_rows', 500)\n",
    "pd.set_option('display.max_columns', 500)\n",
    "pd.set_option('display.width', 1000)\n",
    "pd.set_option('max_colwidth', 500)"
   ]
  },
  {
   "cell_type": "code",
   "execution_count": 3,
   "id": "65127a18",
   "metadata": {
    "execution": {
     "iopub.execute_input": "2023-01-13T00:18:18.545171Z",
     "iopub.status.busy": "2023-01-13T00:18:18.544916Z",
     "iopub.status.idle": "2023-01-13T00:18:18.550263Z",
     "shell.execute_reply": "2023-01-13T00:18:18.549420Z"
    },
    "papermill": {
     "duration": 0.014815,
     "end_time": "2023-01-13T00:18:18.552424",
     "exception": false,
     "start_time": "2023-01-13T00:18:18.537609",
     "status": "completed"
    },
    "tags": []
   },
   "outputs": [],
   "source": [
    "def get_numeric_data(x):\n",
    "    return [record[:-2] for record in x]\n",
    "\n",
    "def get_text_data(x):\n",
    "    return [record[-1] for record in x]"
   ]
  },
  {
   "cell_type": "code",
   "execution_count": 4,
   "id": "84db4785",
   "metadata": {
    "execution": {
     "iopub.execute_input": "2023-01-13T00:18:18.565638Z",
     "iopub.status.busy": "2023-01-13T00:18:18.565338Z",
     "iopub.status.idle": "2023-01-13T00:18:18.570474Z",
     "shell.execute_reply": "2023-01-13T00:18:18.569555Z"
    },
    "papermill": {
     "duration": 0.013969,
     "end_time": "2023-01-13T00:18:18.572263",
     "exception": false,
     "start_time": "2023-01-13T00:18:18.558294",
     "status": "completed"
    },
    "tags": []
   },
   "outputs": [],
   "source": [
    "transfomer_numeric = FunctionTransformer(get_numeric_data)\n",
    "transformer_text = FunctionTransformer(get_text_data)"
   ]
  },
  {
   "cell_type": "code",
   "execution_count": 5,
   "id": "3fd88986",
   "metadata": {
    "execution": {
     "iopub.execute_input": "2023-01-13T00:18:18.585809Z",
     "iopub.status.busy": "2023-01-13T00:18:18.585533Z",
     "iopub.status.idle": "2023-01-13T00:18:46.301426Z",
     "shell.execute_reply": "2023-01-13T00:18:46.300408Z"
    },
    "papermill": {
     "duration": 27.725252,
     "end_time": "2023-01-13T00:18:46.303832",
     "exception": false,
     "start_time": "2023-01-13T00:18:18.578580",
     "status": "completed"
    },
    "tags": []
   },
   "outputs": [
    {
     "data": {
      "text/html": [
       "<div>\n",
       "<style scoped>\n",
       "    .dataframe tbody tr th:only-of-type {\n",
       "        vertical-align: middle;\n",
       "    }\n",
       "\n",
       "    .dataframe tbody tr th {\n",
       "        vertical-align: top;\n",
       "    }\n",
       "\n",
       "    .dataframe thead th {\n",
       "        text-align: right;\n",
       "    }\n",
       "</style>\n",
       "<table border=\"1\" class=\"dataframe\">\n",
       "  <thead>\n",
       "    <tr style=\"text-align: right;\">\n",
       "      <th></th>\n",
       "      <th>user_id</th>\n",
       "      <th>book_id</th>\n",
       "      <th>review_id</th>\n",
       "      <th>rating</th>\n",
       "      <th>review_text</th>\n",
       "      <th>date_added</th>\n",
       "      <th>date_updated</th>\n",
       "      <th>read_at</th>\n",
       "      <th>started_at</th>\n",
       "      <th>n_votes</th>\n",
       "      <th>n_comments</th>\n",
       "    </tr>\n",
       "  </thead>\n",
       "  <tbody>\n",
       "    <tr>\n",
       "      <th>0</th>\n",
       "      <td>8842281e1d1347389f2ab93d60773d4d</td>\n",
       "      <td>18245960</td>\n",
       "      <td>dfdbb7b0eb5a7e4c26d59a937e2e5feb</td>\n",
       "      <td>5</td>\n",
       "      <td>This is a special book. It started slow for about the first third, then in the middle third it started to get interesting, then the last third blew my mind. This is what I love about good science fiction - it pushes your thinking about where things can go. \\n It is a 2015 Hugo winner, and translated from its original Chinese, which made it interesting in just a different way from most things I've read. For instance the intermixing of Chinese revolutionary history - how they kept accusing peo...</td>\n",
       "      <td>Sun Jul 30 07:44:10 -0700 2017</td>\n",
       "      <td>Wed Aug 30 00:00:26 -0700 2017</td>\n",
       "      <td>Sat Aug 26 12:05:52 -0700 2017</td>\n",
       "      <td>Tue Aug 15 13:23:18 -0700 2017</td>\n",
       "      <td>28</td>\n",
       "      <td>1</td>\n",
       "    </tr>\n",
       "    <tr>\n",
       "      <th>1</th>\n",
       "      <td>8842281e1d1347389f2ab93d60773d4d</td>\n",
       "      <td>16981</td>\n",
       "      <td>a5d2c3628987712d0e05c4f90798eb67</td>\n",
       "      <td>3</td>\n",
       "      <td>Recommended by Don Katz. Avail for free in December: http://www.audible.com/mt/ellison2?so...</td>\n",
       "      <td>Mon Dec 05 10:46:44 -0800 2016</td>\n",
       "      <td>Wed Mar 22 11:37:04 -0700 2017</td>\n",
       "      <td>NaN</td>\n",
       "      <td>NaN</td>\n",
       "      <td>1</td>\n",
       "      <td>0</td>\n",
       "    </tr>\n",
       "    <tr>\n",
       "      <th>2</th>\n",
       "      <td>8842281e1d1347389f2ab93d60773d4d</td>\n",
       "      <td>28684704</td>\n",
       "      <td>2ede853b14dc4583f96cf5d120af636f</td>\n",
       "      <td>3</td>\n",
       "      <td>A fun, fast paced science fiction thriller. I read it in 2 nights and couldn't put it down. The book is about the quantum theory of many worlds which states that all decisions we make throughout our lives basically create branches, and that each possible path through the decision tree can be thought of as a parallel world. And in this book, someone invents a way to switch between these worlds. This was nicely alluded to/foreshadowed in this quote: \\n \"I think about all the choices we've made...</td>\n",
       "      <td>Tue Nov 15 11:29:22 -0800 2016</td>\n",
       "      <td>Mon Mar 20 23:40:27 -0700 2017</td>\n",
       "      <td>Sat Mar 18 23:22:42 -0700 2017</td>\n",
       "      <td>Fri Mar 17 23:45:40 -0700 2017</td>\n",
       "      <td>22</td>\n",
       "      <td>0</td>\n",
       "    </tr>\n",
       "    <tr>\n",
       "      <th>3</th>\n",
       "      <td>8842281e1d1347389f2ab93d60773d4d</td>\n",
       "      <td>27161156</td>\n",
       "      <td>ced5675e55cd9d38a524743f5c40996e</td>\n",
       "      <td>0</td>\n",
       "      <td>Recommended reading to understand what is going on in middle america, and possibly better explain why Trump won. http://www.npr.org/2016/11/09/5013826...</td>\n",
       "      <td>Wed Nov 09 17:37:04 -0800 2016</td>\n",
       "      <td>Wed Nov 09 17:38:20 -0800 2016</td>\n",
       "      <td>NaN</td>\n",
       "      <td>NaN</td>\n",
       "      <td>5</td>\n",
       "      <td>1</td>\n",
       "    </tr>\n",
       "    <tr>\n",
       "      <th>4</th>\n",
       "      <td>8842281e1d1347389f2ab93d60773d4d</td>\n",
       "      <td>25884323</td>\n",
       "      <td>332732725863131279a8e345b63ac33e</td>\n",
       "      <td>4</td>\n",
       "      <td>I really enjoyed this book, and there is a lot to recommend it. It did drag on a little at the end so I knocked off 1 star - but overall a wow book. \\n It's the story of a starship sent to Tau Ceti - the nearest star that has Earth analog planets - to colonize it. The journey there will take generations, and the story is told of the 3rd &amp; 4th (?) generations, which are the ones that reaches Tau Ceti. It is a story of purpose, and how having a purpose affects behavior. A story of politics, an...</td>\n",
       "      <td>Mon Apr 25 09:31:23 -0700 2016</td>\n",
       "      <td>Mon Apr 25 09:31:23 -0700 2016</td>\n",
       "      <td>Sun Jun 26 00:00:00 -0700 2016</td>\n",
       "      <td>Sat May 28 00:00:00 -0700 2016</td>\n",
       "      <td>9</td>\n",
       "      <td>1</td>\n",
       "    </tr>\n",
       "  </tbody>\n",
       "</table>\n",
       "</div>"
      ],
      "text/plain": [
       "                            user_id   book_id                         review_id  rating                                                                                                                                                                                                                                                                                                                                                                                                                                                                                                          review_text                      date_added                    date_updated                         read_at                      started_at  n_votes  n_comments\n",
       "0  8842281e1d1347389f2ab93d60773d4d  18245960  dfdbb7b0eb5a7e4c26d59a937e2e5feb       5  This is a special book. It started slow for about the first third, then in the middle third it started to get interesting, then the last third blew my mind. This is what I love about good science fiction - it pushes your thinking about where things can go. \\n It is a 2015 Hugo winner, and translated from its original Chinese, which made it interesting in just a different way from most things I've read. For instance the intermixing of Chinese revolutionary history - how they kept accusing peo...  Sun Jul 30 07:44:10 -0700 2017  Wed Aug 30 00:00:26 -0700 2017  Sat Aug 26 12:05:52 -0700 2017  Tue Aug 15 13:23:18 -0700 2017       28           1\n",
       "1  8842281e1d1347389f2ab93d60773d4d     16981  a5d2c3628987712d0e05c4f90798eb67       3                                                                                                                                                                                                                                                                                                                                                                                                                        Recommended by Don Katz. Avail for free in December: http://www.audible.com/mt/ellison2?so...  Mon Dec 05 10:46:44 -0800 2016  Wed Mar 22 11:37:04 -0700 2017                             NaN                             NaN        1           0\n",
       "2  8842281e1d1347389f2ab93d60773d4d  28684704  2ede853b14dc4583f96cf5d120af636f       3  A fun, fast paced science fiction thriller. I read it in 2 nights and couldn't put it down. The book is about the quantum theory of many worlds which states that all decisions we make throughout our lives basically create branches, and that each possible path through the decision tree can be thought of as a parallel world. And in this book, someone invents a way to switch between these worlds. This was nicely alluded to/foreshadowed in this quote: \\n \"I think about all the choices we've made...  Tue Nov 15 11:29:22 -0800 2016  Mon Mar 20 23:40:27 -0700 2017  Sat Mar 18 23:22:42 -0700 2017  Fri Mar 17 23:45:40 -0700 2017       22           0\n",
       "3  8842281e1d1347389f2ab93d60773d4d  27161156  ced5675e55cd9d38a524743f5c40996e       0                                                                                                                                                                                                                                                                                                                                                            Recommended reading to understand what is going on in middle america, and possibly better explain why Trump won. http://www.npr.org/2016/11/09/5013826...  Wed Nov 09 17:37:04 -0800 2016  Wed Nov 09 17:38:20 -0800 2016                             NaN                             NaN        5           1\n",
       "4  8842281e1d1347389f2ab93d60773d4d  25884323  332732725863131279a8e345b63ac33e       4  I really enjoyed this book, and there is a lot to recommend it. It did drag on a little at the end so I knocked off 1 star - but overall a wow book. \\n It's the story of a starship sent to Tau Ceti - the nearest star that has Earth analog planets - to colonize it. The journey there will take generations, and the story is told of the 3rd & 4th (?) generations, which are the ones that reaches Tau Ceti. It is a story of purpose, and how having a purpose affects behavior. A story of politics, an...  Mon Apr 25 09:31:23 -0700 2016  Mon Apr 25 09:31:23 -0700 2016  Sun Jun 26 00:00:00 -0700 2016  Sat May 28 00:00:00 -0700 2016        9           1"
      ]
     },
     "execution_count": 5,
     "metadata": {},
     "output_type": "execute_result"
    }
   ],
   "source": [
    "train_df=pd.read_csv('/kaggle/input/goodreads-books-reviews-290312/goodreads_train.csv')\n",
    "train_df.head()"
   ]
  },
  {
   "cell_type": "code",
   "execution_count": 6,
   "id": "f569f91a",
   "metadata": {
    "execution": {
     "iopub.execute_input": "2023-01-13T00:18:46.321284Z",
     "iopub.status.busy": "2023-01-13T00:18:46.319514Z",
     "iopub.status.idle": "2023-01-13T00:18:46.599424Z",
     "shell.execute_reply": "2023-01-13T00:18:46.598375Z"
    },
    "papermill": {
     "duration": 0.290003,
     "end_time": "2023-01-13T00:18:46.601828",
     "exception": false,
     "start_time": "2023-01-13T00:18:46.311825",
     "status": "completed"
    },
    "tags": []
   },
   "outputs": [
    {
     "data": {
      "text/plain": [
       "(array([ 30988.,      0.,  28718.,      0.,  72627.,      0., 188972.,\n",
       "             0., 313688., 265007.]),\n",
       " array([0. , 0.5, 1. , 1.5, 2. , 2.5, 3. , 3.5, 4. , 4.5, 5. ]),\n",
       " <BarContainer object of 10 artists>)"
      ]
     },
     "execution_count": 6,
     "metadata": {},
     "output_type": "execute_result"
    },
    {
     "data": {
      "image/png": "[encoded data removed]",
      "text/plain": [
       "<Figure size 432x288 with 1 Axes>"
      ]
     },
     "metadata": {
      "needs_background": "light"
     },
     "output_type": "display_data"
    }
   ],
   "source": [
    "plt.hist(train_df.rating)"
   ]
  },
  {
   "cell_type": "code",
   "execution_count": 7,
   "id": "c0d5ef8b",
   "metadata": {
    "execution": {
     "iopub.execute_input": "2023-01-13T00:18:46.619509Z",
     "iopub.status.busy": "2023-01-13T00:18:46.617841Z",
     "iopub.status.idle": "2023-01-13T00:18:46.683237Z",
     "shell.execute_reply": "2023-01-13T00:18:46.681353Z"
    },
    "papermill": {
     "duration": 0.076153,
     "end_time": "2023-01-13T00:18:46.685570",
     "exception": false,
     "start_time": "2023-01-13T00:18:46.609417",
     "status": "completed"
    },
    "tags": []
   },
   "outputs": [
    {
     "data": {
      "text/html": [
       "<div>\n",
       "<style scoped>\n",
       "    .dataframe tbody tr th:only-of-type {\n",
       "        vertical-align: middle;\n",
       "    }\n",
       "\n",
       "    .dataframe tbody tr th {\n",
       "        vertical-align: top;\n",
       "    }\n",
       "\n",
       "    .dataframe thead th {\n",
       "        text-align: right;\n",
       "    }\n",
       "</style>\n",
       "<table border=\"1\" class=\"dataframe\">\n",
       "  <thead>\n",
       "    <tr style=\"text-align: right;\">\n",
       "      <th></th>\n",
       "      <th>rating</th>\n",
       "      <th>nr_users</th>\n",
       "    </tr>\n",
       "  </thead>\n",
       "  <tbody>\n",
       "    <tr>\n",
       "      <th>0</th>\n",
       "      <td>0</td>\n",
       "      <td>30988</td>\n",
       "    </tr>\n",
       "    <tr>\n",
       "      <th>1</th>\n",
       "      <td>1</td>\n",
       "      <td>28718</td>\n",
       "    </tr>\n",
       "    <tr>\n",
       "      <th>2</th>\n",
       "      <td>2</td>\n",
       "      <td>72627</td>\n",
       "    </tr>\n",
       "    <tr>\n",
       "      <th>3</th>\n",
       "      <td>3</td>\n",
       "      <td>188972</td>\n",
       "    </tr>\n",
       "    <tr>\n",
       "      <th>4</th>\n",
       "      <td>4</td>\n",
       "      <td>313688</td>\n",
       "    </tr>\n",
       "    <tr>\n",
       "      <th>5</th>\n",
       "      <td>5</td>\n",
       "      <td>265007</td>\n",
       "    </tr>\n",
       "  </tbody>\n",
       "</table>\n",
       "</div>"
      ],
      "text/plain": [
       "   rating  nr_users\n",
       "0       0     30988\n",
       "1       1     28718\n",
       "2       2     72627\n",
       "3       3    188972\n",
       "4       4    313688\n",
       "5       5    265007"
      ]
     },
     "execution_count": 7,
     "metadata": {},
     "output_type": "execute_result"
    }
   ],
   "source": [
    "nr_users=train_df.groupby('rating').user_id.count().reset_index()\n",
    "nr_users.columns='rating nr_users'.split()\n",
    "nr_users"
   ]
  },
  {
   "cell_type": "code",
   "execution_count": 8,
   "id": "d9a4951e",
   "metadata": {
    "execution": {
     "iopub.execute_input": "2023-01-13T00:18:46.701571Z",
     "iopub.status.busy": "2023-01-13T00:18:46.700985Z",
     "iopub.status.idle": "2023-01-13T00:18:46.834261Z",
     "shell.execute_reply": "2023-01-13T00:18:46.833250Z"
    },
    "papermill": {
     "duration": 0.143194,
     "end_time": "2023-01-13T00:18:46.836364",
     "exception": false,
     "start_time": "2023-01-13T00:18:46.693170",
     "status": "completed"
    },
    "tags": []
   },
   "outputs": [
    {
     "data": {
      "text/html": [
       "<div>\n",
       "<style scoped>\n",
       "    .dataframe tbody tr th:only-of-type {\n",
       "        vertical-align: middle;\n",
       "    }\n",
       "\n",
       "    .dataframe tbody tr th {\n",
       "        vertical-align: top;\n",
       "    }\n",
       "\n",
       "    .dataframe thead th {\n",
       "        text-align: right;\n",
       "    }\n",
       "</style>\n",
       "<table border=\"1\" class=\"dataframe\">\n",
       "  <thead>\n",
       "    <tr style=\"text-align: right;\">\n",
       "      <th></th>\n",
       "      <th>rating</th>\n",
       "      <th>n_comments</th>\n",
       "      <th>n_votes</th>\n",
       "      <th>user_id</th>\n",
       "    </tr>\n",
       "  </thead>\n",
       "  <tbody>\n",
       "    <tr>\n",
       "      <th>0</th>\n",
       "      <td>0</td>\n",
       "      <td>0</td>\n",
       "      <td>-1</td>\n",
       "      <td>1</td>\n",
       "    </tr>\n",
       "    <tr>\n",
       "      <th>1</th>\n",
       "      <td>0</td>\n",
       "      <td>0</td>\n",
       "      <td>0</td>\n",
       "      <td>16094</td>\n",
       "    </tr>\n",
       "    <tr>\n",
       "      <th>2</th>\n",
       "      <td>0</td>\n",
       "      <td>0</td>\n",
       "      <td>1</td>\n",
       "      <td>3678</td>\n",
       "    </tr>\n",
       "    <tr>\n",
       "      <th>3</th>\n",
       "      <td>0</td>\n",
       "      <td>0</td>\n",
       "      <td>2</td>\n",
       "      <td>1490</td>\n",
       "    </tr>\n",
       "    <tr>\n",
       "      <th>4</th>\n",
       "      <td>0</td>\n",
       "      <td>0</td>\n",
       "      <td>3</td>\n",
       "      <td>819</td>\n",
       "    </tr>\n",
       "    <tr>\n",
       "      <th>...</th>\n",
       "      <td>...</td>\n",
       "      <td>...</td>\n",
       "      <td>...</td>\n",
       "      <td>...</td>\n",
       "    </tr>\n",
       "    <tr>\n",
       "      <th>15718</th>\n",
       "      <td>5</td>\n",
       "      <td>443</td>\n",
       "      <td>519</td>\n",
       "      <td>1</td>\n",
       "    </tr>\n",
       "    <tr>\n",
       "      <th>15719</th>\n",
       "      <td>5</td>\n",
       "      <td>453</td>\n",
       "      <td>330</td>\n",
       "      <td>1</td>\n",
       "    </tr>\n",
       "    <tr>\n",
       "      <th>15720</th>\n",
       "      <td>5</td>\n",
       "      <td>468</td>\n",
       "      <td>472</td>\n",
       "      <td>1</td>\n",
       "    </tr>\n",
       "    <tr>\n",
       "      <th>15721</th>\n",
       "      <td>5</td>\n",
       "      <td>537</td>\n",
       "      <td>3167</td>\n",
       "      <td>1</td>\n",
       "    </tr>\n",
       "    <tr>\n",
       "      <th>15722</th>\n",
       "      <td>5</td>\n",
       "      <td>833</td>\n",
       "      <td>175</td>\n",
       "      <td>1</td>\n",
       "    </tr>\n",
       "  </tbody>\n",
       "</table>\n",
       "<p>15723 rows × 4 columns</p>\n",
       "</div>"
      ],
      "text/plain": [
       "       rating  n_comments  n_votes  user_id\n",
       "0           0           0       -1        1\n",
       "1           0           0        0    16094\n",
       "2           0           0        1     3678\n",
       "3           0           0        2     1490\n",
       "4           0           0        3      819\n",
       "...       ...         ...      ...      ...\n",
       "15718       5         443      519        1\n",
       "15719       5         453      330        1\n",
       "15720       5         468      472        1\n",
       "15721       5         537     3167        1\n",
       "15722       5         833      175        1\n",
       "\n",
       "[15723 rows x 4 columns]"
      ]
     },
     "execution_count": 8,
     "metadata": {},
     "output_type": "execute_result"
    }
   ],
   "source": [
    "train_df.groupby('rating n_comments n_votes'.split()).user_id.count().reset_index()"
   ]
  },
  {
   "cell_type": "code",
   "execution_count": 9,
   "id": "6dac8ef0",
   "metadata": {
    "execution": {
     "iopub.execute_input": "2023-01-13T00:18:46.853744Z",
     "iopub.status.busy": "2023-01-13T00:18:46.852055Z",
     "iopub.status.idle": "2023-01-13T00:18:47.071720Z",
     "shell.execute_reply": "2023-01-13T00:18:47.070751Z"
    },
    "papermill": {
     "duration": 0.230259,
     "end_time": "2023-01-13T00:18:47.074142",
     "exception": false,
     "start_time": "2023-01-13T00:18:46.843883",
     "status": "completed"
    },
    "tags": []
   },
   "outputs": [
    {
     "data": {
      "text/plain": [
       "<BarContainer object of 6 artists>"
      ]
     },
     "execution_count": 9,
     "metadata": {},
     "output_type": "execute_result"
    },
    {
     "data": {
      "image/png": "[encoded data removed]",
      "text/plain": [
       "<Figure size 432x288 with 1 Axes>"
      ]
     },
     "metadata": {
      "needs_background": "light"
     },
     "output_type": "display_data"
    }
   ],
   "source": [
    "plt.bar(x=nr_users.rating, height=nr_users.nr_users)"
   ]
  },
  {
   "cell_type": "code",
   "execution_count": 10,
   "id": "9dd55533",
   "metadata": {
    "execution": {
     "iopub.execute_input": "2023-01-13T00:18:47.091268Z",
     "iopub.status.busy": "2023-01-13T00:18:47.090938Z",
     "iopub.status.idle": "2023-01-13T00:18:47.097373Z",
     "shell.execute_reply": "2023-01-13T00:18:47.096431Z"
    },
    "papermill": {
     "duration": 0.017436,
     "end_time": "2023-01-13T00:18:47.099619",
     "exception": false,
     "start_time": "2023-01-13T00:18:47.082183",
     "status": "completed"
    },
    "tags": []
   },
   "outputs": [],
   "source": [
    "def word_count(str) :\n",
    "    counts=dict()\n",
    "    words=str.split()\n",
    "    for word in words :\n",
    "        if word in counts :\n",
    "            counts[word]+=1\n",
    "        else :\n",
    "            counts[word]=1\n",
    "    return counts"
   ]
  },
  {
   "cell_type": "code",
   "execution_count": 11,
   "id": "5b5fed3a",
   "metadata": {
    "execution": {
     "iopub.execute_input": "2023-01-13T00:18:47.116616Z",
     "iopub.status.busy": "2023-01-13T00:18:47.116282Z",
     "iopub.status.idle": "2023-01-13T00:18:47.122660Z",
     "shell.execute_reply": "2023-01-13T00:18:47.121458Z"
    },
    "papermill": {
     "duration": 0.018029,
     "end_time": "2023-01-13T00:18:47.125261",
     "exception": false,
     "start_time": "2023-01-13T00:18:47.107232",
     "status": "completed"
    },
    "tags": []
   },
   "outputs": [],
   "source": [
    "DATE_FORMAT = '%a %b %d %H:%M:%S %z %Y'\n",
    "\n",
    "def parse_date(date_str):\n",
    "    if (date_str != date_str) or (date_str is None):\n",
    "        return None\n",
    "    if len(date_str.split()) != 6:\n",
    "        return None\n",
    "    else:\n",
    "        try:\n",
    "            return datetime.strptime(date_str, DATE_FORMAT)\n",
    "        except Exception as e:\n",
    "            print(date_str, e)\n",
    "        return None"
   ]
  },
  {
   "cell_type": "code",
   "execution_count": 12,
   "id": "97528c16",
   "metadata": {
    "execution": {
     "iopub.execute_input": "2023-01-13T00:18:47.141868Z",
     "iopub.status.busy": "2023-01-13T00:18:47.141583Z",
     "iopub.status.idle": "2023-01-13T00:18:55.558406Z",
     "shell.execute_reply": "2023-01-13T00:18:55.557407Z"
    },
    "papermill": {
     "duration": 8.427963,
     "end_time": "2023-01-13T00:18:55.560990",
     "exception": false,
     "start_time": "2023-01-13T00:18:47.133027",
     "status": "completed"
    },
    "tags": []
   },
   "outputs": [],
   "source": [
    "train_df['n_review_words']=train_df.review_text.apply(lambda x: len(x.split()))"
   ]
  },
  {
   "cell_type": "code",
   "execution_count": 13,
   "id": "58f5b3d8",
   "metadata": {
    "execution": {
     "iopub.execute_input": "2023-01-13T00:18:55.577403Z",
     "iopub.status.busy": "2023-01-13T00:18:55.577072Z",
     "iopub.status.idle": "2023-01-13T00:19:21.472477Z",
     "shell.execute_reply": "2023-01-13T00:19:21.471414Z"
    },
    "papermill": {
     "duration": 25.906393,
     "end_time": "2023-01-13T00:19:21.474958",
     "exception": false,
     "start_time": "2023-01-13T00:18:55.568565",
     "status": "completed"
    },
    "tags": []
   },
   "outputs": [],
   "source": [
    "from datetime import datetime\n",
    "train_df['started_at_dt'] = train_df.started_at.apply(lambda x : parse_date(x))\n",
    "train_df['read_at_dt'] = train_df.read_at.apply(lambda x : parse_date(x))\n",
    "#train_df['duration_dt'] = (train_df.read_at_dt - train_df.started_at_dt).apply(lambda x: x.dt.days)"
   ]
  },
  {
   "cell_type": "code",
   "execution_count": 14,
   "id": "c2dfd2ac",
   "metadata": {
    "execution": {
     "iopub.execute_input": "2023-01-13T00:19:21.490928Z",
     "iopub.status.busy": "2023-01-13T00:19:21.490613Z",
     "iopub.status.idle": "2023-01-13T00:19:21.508051Z",
     "shell.execute_reply": "2023-01-13T00:19:21.507214Z"
    },
    "papermill": {
     "duration": 0.027721,
     "end_time": "2023-01-13T00:19:21.509970",
     "exception": false,
     "start_time": "2023-01-13T00:19:21.482249",
     "status": "completed"
    },
    "tags": []
   },
   "outputs": [
    {
     "data": {
      "text/html": [
       "<div>\n",
       "<style scoped>\n",
       "    .dataframe tbody tr th:only-of-type {\n",
       "        vertical-align: middle;\n",
       "    }\n",
       "\n",
       "    .dataframe tbody tr th {\n",
       "        vertical-align: top;\n",
       "    }\n",
       "\n",
       "    .dataframe thead th {\n",
       "        text-align: right;\n",
       "    }\n",
       "</style>\n",
       "<table border=\"1\" class=\"dataframe\">\n",
       "  <thead>\n",
       "    <tr style=\"text-align: right;\">\n",
       "      <th></th>\n",
       "      <th>user_id</th>\n",
       "      <th>book_id</th>\n",
       "      <th>review_id</th>\n",
       "      <th>rating</th>\n",
       "      <th>review_text</th>\n",
       "      <th>date_added</th>\n",
       "      <th>date_updated</th>\n",
       "      <th>read_at</th>\n",
       "      <th>started_at</th>\n",
       "      <th>n_votes</th>\n",
       "      <th>n_comments</th>\n",
       "      <th>n_review_words</th>\n",
       "      <th>started_at_dt</th>\n",
       "      <th>read_at_dt</th>\n",
       "    </tr>\n",
       "  </thead>\n",
       "  <tbody>\n",
       "    <tr>\n",
       "      <th>0</th>\n",
       "      <td>8842281e1d1347389f2ab93d60773d4d</td>\n",
       "      <td>18245960</td>\n",
       "      <td>dfdbb7b0eb5a7e4c26d59a937e2e5feb</td>\n",
       "      <td>5</td>\n",
       "      <td>This is a special book. It started slow for about the first third, then in the middle third it started to get interesting, then the last third blew my mind. This is what I love about good science fiction - it pushes your thinking about where things can go. \\n It is a 2015 Hugo winner, and translated from its original Chinese, which made it interesting in just a different way from most things I've read. For instance the intermixing of Chinese revolutionary history - how they kept accusing peo...</td>\n",
       "      <td>Sun Jul 30 07:44:10 -0700 2017</td>\n",
       "      <td>Wed Aug 30 00:00:26 -0700 2017</td>\n",
       "      <td>Sat Aug 26 12:05:52 -0700 2017</td>\n",
       "      <td>Tue Aug 15 13:23:18 -0700 2017</td>\n",
       "      <td>28</td>\n",
       "      <td>1</td>\n",
       "      <td>368</td>\n",
       "      <td>2017-08-15 13:23:18-07:00</td>\n",
       "      <td>2017-08-26 12:05:52-07:00</td>\n",
       "    </tr>\n",
       "    <tr>\n",
       "      <th>1</th>\n",
       "      <td>8842281e1d1347389f2ab93d60773d4d</td>\n",
       "      <td>16981</td>\n",
       "      <td>a5d2c3628987712d0e05c4f90798eb67</td>\n",
       "      <td>3</td>\n",
       "      <td>Recommended by Don Katz. Avail for free in December: http://www.audible.com/mt/ellison2?so...</td>\n",
       "      <td>Mon Dec 05 10:46:44 -0800 2016</td>\n",
       "      <td>Wed Mar 22 11:37:04 -0700 2017</td>\n",
       "      <td>NaN</td>\n",
       "      <td>NaN</td>\n",
       "      <td>1</td>\n",
       "      <td>0</td>\n",
       "      <td>10</td>\n",
       "      <td>None</td>\n",
       "      <td>None</td>\n",
       "    </tr>\n",
       "    <tr>\n",
       "      <th>2</th>\n",
       "      <td>8842281e1d1347389f2ab93d60773d4d</td>\n",
       "      <td>28684704</td>\n",
       "      <td>2ede853b14dc4583f96cf5d120af636f</td>\n",
       "      <td>3</td>\n",
       "      <td>A fun, fast paced science fiction thriller. I read it in 2 nights and couldn't put it down. The book is about the quantum theory of many worlds which states that all decisions we make throughout our lives basically create branches, and that each possible path through the decision tree can be thought of as a parallel world. And in this book, someone invents a way to switch between these worlds. This was nicely alluded to/foreshadowed in this quote: \\n \"I think about all the choices we've made...</td>\n",
       "      <td>Tue Nov 15 11:29:22 -0800 2016</td>\n",
       "      <td>Mon Mar 20 23:40:27 -0700 2017</td>\n",
       "      <td>Sat Mar 18 23:22:42 -0700 2017</td>\n",
       "      <td>Fri Mar 17 23:45:40 -0700 2017</td>\n",
       "      <td>22</td>\n",
       "      <td>0</td>\n",
       "      <td>468</td>\n",
       "      <td>2017-03-17 23:45:40-07:00</td>\n",
       "      <td>2017-03-18 23:22:42-07:00</td>\n",
       "    </tr>\n",
       "    <tr>\n",
       "      <th>3</th>\n",
       "      <td>8842281e1d1347389f2ab93d60773d4d</td>\n",
       "      <td>27161156</td>\n",
       "      <td>ced5675e55cd9d38a524743f5c40996e</td>\n",
       "      <td>0</td>\n",
       "      <td>Recommended reading to understand what is going on in middle america, and possibly better explain why Trump won. http://www.npr.org/2016/11/09/5013826...</td>\n",
       "      <td>Wed Nov 09 17:37:04 -0800 2016</td>\n",
       "      <td>Wed Nov 09 17:38:20 -0800 2016</td>\n",
       "      <td>NaN</td>\n",
       "      <td>NaN</td>\n",
       "      <td>5</td>\n",
       "      <td>1</td>\n",
       "      <td>19</td>\n",
       "      <td>None</td>\n",
       "      <td>None</td>\n",
       "    </tr>\n",
       "    <tr>\n",
       "      <th>4</th>\n",
       "      <td>8842281e1d1347389f2ab93d60773d4d</td>\n",
       "      <td>25884323</td>\n",
       "      <td>332732725863131279a8e345b63ac33e</td>\n",
       "      <td>4</td>\n",
       "      <td>I really enjoyed this book, and there is a lot to recommend it. It did drag on a little at the end so I knocked off 1 star - but overall a wow book. \\n It's the story of a starship sent to Tau Ceti - the nearest star that has Earth analog planets - to colonize it. The journey there will take generations, and the story is told of the 3rd &amp; 4th (?) generations, which are the ones that reaches Tau Ceti. It is a story of purpose, and how having a purpose affects behavior. A story of politics, an...</td>\n",
       "      <td>Mon Apr 25 09:31:23 -0700 2016</td>\n",
       "      <td>Mon Apr 25 09:31:23 -0700 2016</td>\n",
       "      <td>Sun Jun 26 00:00:00 -0700 2016</td>\n",
       "      <td>Sat May 28 00:00:00 -0700 2016</td>\n",
       "      <td>9</td>\n",
       "      <td>1</td>\n",
       "      <td>736</td>\n",
       "      <td>2016-05-28 00:00:00-07:00</td>\n",
       "      <td>2016-06-26 00:00:00-07:00</td>\n",
       "    </tr>\n",
       "    <tr>\n",
       "      <th>5</th>\n",
       "      <td>8842281e1d1347389f2ab93d60773d4d</td>\n",
       "      <td>19398490</td>\n",
       "      <td>ea4a220b10e6b5c796dae0e3b970aff1</td>\n",
       "      <td>4</td>\n",
       "      <td>A beautiful story. It is rare to encounter a book that does such a good job painting the scenes in your mind - you really felt like you were there and got to know the characters and the people they came across. I generally love WWII books and movies, but wasn't sure if I'd like one featuring a blind girl and a young Nazi radio operator - but he brings a lot of life to them. \\n That said, the novel drifts around a lot, and the plotline jumping forward and backward in time drove me nuts. \\n I ...</td>\n",
       "      <td>Sun Jan 03 21:20:46 -0800 2016</td>\n",
       "      <td>Tue Sep 20 23:30:15 -0700 2016</td>\n",
       "      <td>Tue Sep 13 11:51:51 -0700 2016</td>\n",
       "      <td>Sat Aug 20 07:03:03 -0700 2016</td>\n",
       "      <td>35</td>\n",
       "      <td>5</td>\n",
       "      <td>258</td>\n",
       "      <td>2016-08-20 07:03:03-07:00</td>\n",
       "      <td>2016-09-13 11:51:51-07:00</td>\n",
       "    </tr>\n",
       "    <tr>\n",
       "      <th>6</th>\n",
       "      <td>8842281e1d1347389f2ab93d60773d4d</td>\n",
       "      <td>22318578</td>\n",
       "      <td>5fe9882bfe4b0520a322820c4c55747d</td>\n",
       "      <td>5</td>\n",
       "      <td>5 stars for giving me a better framework for how to organize my stuff and what stuff to keep than I'd ever had before. For instance it was so freeing to realize I don't have to keep gifts.</td>\n",
       "      <td>Sun Jun 07 12:50:13 -0700 2015</td>\n",
       "      <td>Wed Mar 22 11:36:58 -0700 2017</td>\n",
       "      <td>Sun Aug 09 00:00:00 -0700 2015</td>\n",
       "      <td>Sun Jun 07 00:00:00 -0700 2015</td>\n",
       "      <td>24</td>\n",
       "      <td>3</td>\n",
       "      <td>38</td>\n",
       "      <td>2015-06-07 00:00:00-07:00</td>\n",
       "      <td>2015-08-09 00:00:00-07:00</td>\n",
       "    </tr>\n",
       "    <tr>\n",
       "      <th>7</th>\n",
       "      <td>8842281e1d1347389f2ab93d60773d4d</td>\n",
       "      <td>24189224</td>\n",
       "      <td>dbc01e2438df7a87ee3dc16ee23a53e5</td>\n",
       "      <td>0</td>\n",
       "      <td>Numerous people in publishing have told me this will be the book of the year.</td>\n",
       "      <td>Fri May 29 17:48:57 -0700 2015</td>\n",
       "      <td>Fri May 29 17:49:40 -0700 2015</td>\n",
       "      <td>NaN</td>\n",
       "      <td>NaN</td>\n",
       "      <td>11</td>\n",
       "      <td>5</td>\n",
       "      <td>15</td>\n",
       "      <td>None</td>\n",
       "      <td>None</td>\n",
       "    </tr>\n",
       "    <tr>\n",
       "      <th>8</th>\n",
       "      <td>8842281e1d1347389f2ab93d60773d4d</td>\n",
       "      <td>22551730</td>\n",
       "      <td>754710070f38e1c59a45f6a85473b836</td>\n",
       "      <td>4</td>\n",
       "      <td>Another hard to put down nonfiction book from Erik Larson. I really enjoyed this book - mostly to learn more about submarine warfare in WWI, but also to learn about the history of the time. How America entered the war, the importance of shipping to England, the ruthlessness and autonomy of German u-boat commanders. Larson also did a great job of layering in interesting historical info (though he overdid it too a little bit). \\n One of the dramas of the story of the Lusitania that Larson focu...</td>\n",
       "      <td>Thu May 07 13:59:32 -0700 2015</td>\n",
       "      <td>Wed Dec 14 12:30:43 -0800 2016</td>\n",
       "      <td>Sat Jul 11 00:00:00 -0700 2015</td>\n",
       "      <td>Wed Jun 24 00:00:00 -0700 2015</td>\n",
       "      <td>20</td>\n",
       "      <td>6</td>\n",
       "      <td>428</td>\n",
       "      <td>2015-06-24 00:00:00-07:00</td>\n",
       "      <td>2015-07-11 00:00:00-07:00</td>\n",
       "    </tr>\n",
       "    <tr>\n",
       "      <th>9</th>\n",
       "      <td>8842281e1d1347389f2ab93d60773d4d</td>\n",
       "      <td>22816087</td>\n",
       "      <td>d11954e6e9e9ddf52aed41d83ce43fa6</td>\n",
       "      <td>5</td>\n",
       "      <td>I love Stephenson - and this was another hit - absolutely loved it. The great thing about a good Stephenson book is it makes you think about the future in new ways, and this book was no exception. \\n It was really two books, and I certainly didn't see the second one coming. It starts out in modern times and then someone blows up the moon. We don't have time to find out who, as within a few years the fragments of the moon cause the worst asteriod shower earth has ever seen and wipe out all li...</td>\n",
       "      <td>Wed Apr 29 10:56:44 -0700 2015</td>\n",
       "      <td>Wed Dec 14 12:30:43 -0800 2016</td>\n",
       "      <td>Wed Nov 04 00:00:00 -0800 2015</td>\n",
       "      <td>Sun Sep 27 00:00:00 -0700 2015</td>\n",
       "      <td>40</td>\n",
       "      <td>6</td>\n",
       "      <td>200</td>\n",
       "      <td>2015-09-27 00:00:00-07:00</td>\n",
       "      <td>2015-11-04 00:00:00-08:00</td>\n",
       "    </tr>\n",
       "  </tbody>\n",
       "</table>\n",
       "</div>"
      ],
      "text/plain": [
       "                            user_id   book_id                         review_id  rating                                                                                                                                                                                                                                                                                                                                                                                                                                                                                                          review_text                      date_added                    date_updated                         read_at                      started_at  n_votes  n_comments  n_review_words              started_at_dt                 read_at_dt\n",
       "0  8842281e1d1347389f2ab93d60773d4d  18245960  dfdbb7b0eb5a7e4c26d59a937e2e5feb       5  This is a special book. It started slow for about the first third, then in the middle third it started to get interesting, then the last third blew my mind. This is what I love about good science fiction - it pushes your thinking about where things can go. \\n It is a 2015 Hugo winner, and translated from its original Chinese, which made it interesting in just a different way from most things I've read. For instance the intermixing of Chinese revolutionary history - how they kept accusing peo...  Sun Jul 30 07:44:10 -0700 2017  Wed Aug 30 00:00:26 -0700 2017  Sat Aug 26 12:05:52 -0700 2017  Tue Aug 15 13:23:18 -0700 2017       28           1             368  2017-08-15 13:23:18-07:00  2017-08-26 12:05:52-07:00\n",
       "1  8842281e1d1347389f2ab93d60773d4d     16981  a5d2c3628987712d0e05c4f90798eb67       3                                                                                                                                                                                                                                                                                                                                                                                                                        Recommended by Don Katz. Avail for free in December: http://www.audible.com/mt/ellison2?so...  Mon Dec 05 10:46:44 -0800 2016  Wed Mar 22 11:37:04 -0700 2017                             NaN                             NaN        1           0              10                       None                       None\n",
       "2  8842281e1d1347389f2ab93d60773d4d  28684704  2ede853b14dc4583f96cf5d120af636f       3  A fun, fast paced science fiction thriller. I read it in 2 nights and couldn't put it down. The book is about the quantum theory of many worlds which states that all decisions we make throughout our lives basically create branches, and that each possible path through the decision tree can be thought of as a parallel world. And in this book, someone invents a way to switch between these worlds. This was nicely alluded to/foreshadowed in this quote: \\n \"I think about all the choices we've made...  Tue Nov 15 11:29:22 -0800 2016  Mon Mar 20 23:40:27 -0700 2017  Sat Mar 18 23:22:42 -0700 2017  Fri Mar 17 23:45:40 -0700 2017       22           0             468  2017-03-17 23:45:40-07:00  2017-03-18 23:22:42-07:00\n",
       "3  8842281e1d1347389f2ab93d60773d4d  27161156  ced5675e55cd9d38a524743f5c40996e       0                                                                                                                                                                                                                                                                                                                                                            Recommended reading to understand what is going on in middle america, and possibly better explain why Trump won. http://www.npr.org/2016/11/09/5013826...  Wed Nov 09 17:37:04 -0800 2016  Wed Nov 09 17:38:20 -0800 2016                             NaN                             NaN        5           1              19                       None                       None\n",
       "4  8842281e1d1347389f2ab93d60773d4d  25884323  332732725863131279a8e345b63ac33e       4  I really enjoyed this book, and there is a lot to recommend it. It did drag on a little at the end so I knocked off 1 star - but overall a wow book. \\n It's the story of a starship sent to Tau Ceti - the nearest star that has Earth analog planets - to colonize it. The journey there will take generations, and the story is told of the 3rd & 4th (?) generations, which are the ones that reaches Tau Ceti. It is a story of purpose, and how having a purpose affects behavior. A story of politics, an...  Mon Apr 25 09:31:23 -0700 2016  Mon Apr 25 09:31:23 -0700 2016  Sun Jun 26 00:00:00 -0700 2016  Sat May 28 00:00:00 -0700 2016        9           1             736  2016-05-28 00:00:00-07:00  2016-06-26 00:00:00-07:00\n",
       "5  8842281e1d1347389f2ab93d60773d4d  19398490  ea4a220b10e6b5c796dae0e3b970aff1       4  A beautiful story. It is rare to encounter a book that does such a good job painting the scenes in your mind - you really felt like you were there and got to know the characters and the people they came across. I generally love WWII books and movies, but wasn't sure if I'd like one featuring a blind girl and a young Nazi radio operator - but he brings a lot of life to them. \\n That said, the novel drifts around a lot, and the plotline jumping forward and backward in time drove me nuts. \\n I ...  Sun Jan 03 21:20:46 -0800 2016  Tue Sep 20 23:30:15 -0700 2016  Tue Sep 13 11:51:51 -0700 2016  Sat Aug 20 07:03:03 -0700 2016       35           5             258  2016-08-20 07:03:03-07:00  2016-09-13 11:51:51-07:00\n",
       "6  8842281e1d1347389f2ab93d60773d4d  22318578  5fe9882bfe4b0520a322820c4c55747d       5                                                                                                                                                                                                                                                                                                                         5 stars for giving me a better framework for how to organize my stuff and what stuff to keep than I'd ever had before. For instance it was so freeing to realize I don't have to keep gifts.  Sun Jun 07 12:50:13 -0700 2015  Wed Mar 22 11:36:58 -0700 2017  Sun Aug 09 00:00:00 -0700 2015  Sun Jun 07 00:00:00 -0700 2015       24           3              38  2015-06-07 00:00:00-07:00  2015-08-09 00:00:00-07:00\n",
       "7  8842281e1d1347389f2ab93d60773d4d  24189224  dbc01e2438df7a87ee3dc16ee23a53e5       0                                                                                                                                                                                                                                                                                                                                                                                                                                        Numerous people in publishing have told me this will be the book of the year.  Fri May 29 17:48:57 -0700 2015  Fri May 29 17:49:40 -0700 2015                             NaN                             NaN       11           5              15                       None                       None\n",
       "8  8842281e1d1347389f2ab93d60773d4d  22551730  754710070f38e1c59a45f6a85473b836       4  Another hard to put down nonfiction book from Erik Larson. I really enjoyed this book - mostly to learn more about submarine warfare in WWI, but also to learn about the history of the time. How America entered the war, the importance of shipping to England, the ruthlessness and autonomy of German u-boat commanders. Larson also did a great job of layering in interesting historical info (though he overdid it too a little bit). \\n One of the dramas of the story of the Lusitania that Larson focu...  Thu May 07 13:59:32 -0700 2015  Wed Dec 14 12:30:43 -0800 2016  Sat Jul 11 00:00:00 -0700 2015  Wed Jun 24 00:00:00 -0700 2015       20           6             428  2015-06-24 00:00:00-07:00  2015-07-11 00:00:00-07:00\n",
       "9  8842281e1d1347389f2ab93d60773d4d  22816087  d11954e6e9e9ddf52aed41d83ce43fa6       5  I love Stephenson - and this was another hit - absolutely loved it. The great thing about a good Stephenson book is it makes you think about the future in new ways, and this book was no exception. \\n It was really two books, and I certainly didn't see the second one coming. It starts out in modern times and then someone blows up the moon. We don't have time to find out who, as within a few years the fragments of the moon cause the worst asteriod shower earth has ever seen and wipe out all li...  Wed Apr 29 10:56:44 -0700 2015  Wed Dec 14 12:30:43 -0800 2016  Wed Nov 04 00:00:00 -0800 2015  Sun Sep 27 00:00:00 -0700 2015       40           6             200  2015-09-27 00:00:00-07:00  2015-11-04 00:00:00-08:00"
      ]
     },
     "execution_count": 14,
     "metadata": {},
     "output_type": "execute_result"
    }
   ],
   "source": [
    "train_df.head(10)"
   ]
  },
  {
   "cell_type": "code",
   "execution_count": 15,
   "id": "abaafd62",
   "metadata": {
    "execution": {
     "iopub.execute_input": "2023-01-13T00:19:21.526435Z",
     "iopub.status.busy": "2023-01-13T00:19:21.525606Z",
     "iopub.status.idle": "2023-01-13T00:19:21.626342Z",
     "shell.execute_reply": "2023-01-13T00:19:21.624883Z"
    },
    "papermill": {
     "duration": 0.111216,
     "end_time": "2023-01-13T00:19:21.628577",
     "exception": true,
     "start_time": "2023-01-13T00:19:21.517361",
     "status": "failed"
    },
    "tags": []
   },
   "outputs": [
    {
     "ename": "AttributeError",
     "evalue": "'DataFrame' object has no attribute 'duration_dt'",
     "output_type": "error",
     "traceback": [
      "\u001b[0;31m---------------------------------------------------------------------------\u001b[0m",
      "\u001b[0;31mAttributeError\u001b[0m                            Traceback (most recent call last)",
      "\u001b[0;32m/tmp/ipykernel_25/1667573964.py\u001b[0m in \u001b[0;36m<module>\u001b[0;34m\u001b[0m\n\u001b[0;32m----> 1\u001b[0;31m \u001b[0mtrain_df\u001b[0m\u001b[0;34m.\u001b[0m\u001b[0mduration_dt\u001b[0m\u001b[0;34m=\u001b[0m\u001b[0mtrain_df\u001b[0m\u001b[0;34m.\u001b[0m\u001b[0mduration_dt\u001b[0m\u001b[0;34m.\u001b[0m\u001b[0mastype\u001b[0m\u001b[0;34m(\u001b[0m\u001b[0mstr\u001b[0m\u001b[0;34m)\u001b[0m\u001b[0;34m.\u001b[0m\u001b[0mapply\u001b[0m\u001b[0;34m(\u001b[0m\u001b[0;32mlambda\u001b[0m \u001b[0mx\u001b[0m\u001b[0;34m:\u001b[0m \u001b[0;34m'nan'\u001b[0m \u001b[0;32mif\u001b[0m \u001b[0;34m'nan'\u001b[0m \u001b[0;32min\u001b[0m \u001b[0mx\u001b[0m \u001b[0;32melse\u001b[0m\u001b[0;34m(\u001b[0m\u001b[0mx\u001b[0m\u001b[0;34m[\u001b[0m\u001b[0;34m:\u001b[0m\u001b[0mx\u001b[0m\u001b[0;34m.\u001b[0m\u001b[0mfind\u001b[0m\u001b[0;34m(\u001b[0m\u001b[0;34m'days'\u001b[0m\u001b[0;34m)\u001b[0m\u001b[0;34m]\u001b[0m \u001b[0;32mif\u001b[0m \u001b[0;34m'days'\u001b[0m \u001b[0;32min\u001b[0m \u001b[0mx\u001b[0m \u001b[0;32melse\u001b[0m \u001b[0;36m0\u001b[0m\u001b[0;34m)\u001b[0m\u001b[0;34m)\u001b[0m\u001b[0;34m.\u001b[0m\u001b[0mastype\u001b[0m\u001b[0;34m(\u001b[0m\u001b[0;34m'float64'\u001b[0m\u001b[0;34m)\u001b[0m\u001b[0;34m\u001b[0m\u001b[0;34m\u001b[0m\u001b[0m\n\u001b[0m",
      "\u001b[0;32m/opt/conda/lib/python3.7/site-packages/pandas/core/generic.py\u001b[0m in \u001b[0;36m__getattr__\u001b[0;34m(self, name)\u001b[0m\n\u001b[1;32m   5485\u001b[0m         ):\n\u001b[1;32m   5486\u001b[0m             \u001b[0;32mreturn\u001b[0m \u001b[0mself\u001b[0m\u001b[0;34m[\u001b[0m\u001b[0mname\u001b[0m\u001b[0;34m]\u001b[0m\u001b[0;34m\u001b[0m\u001b[0;34m\u001b[0m\u001b[0m\n\u001b[0;32m-> 5487\u001b[0;31m         \u001b[0;32mreturn\u001b[0m \u001b[0mobject\u001b[0m\u001b[0;34m.\u001b[0m\u001b[0m__getattribute__\u001b[0m\u001b[0;34m(\u001b[0m\u001b[0mself\u001b[0m\u001b[0;34m,\u001b[0m \u001b[0mname\u001b[0m\u001b[0;34m)\u001b[0m\u001b[0;34m\u001b[0m\u001b[0;34m\u001b[0m\u001b[0m\n\u001b[0m\u001b[1;32m   5488\u001b[0m \u001b[0;34m\u001b[0m\u001b[0m\n\u001b[1;32m   5489\u001b[0m     \u001b[0;32mdef\u001b[0m \u001b[0m__setattr__\u001b[0m\u001b[0;34m(\u001b[0m\u001b[0mself\u001b[0m\u001b[0;34m,\u001b[0m \u001b[0mname\u001b[0m\u001b[0;34m:\u001b[0m \u001b[0mstr\u001b[0m\u001b[0;34m,\u001b[0m \u001b[0mvalue\u001b[0m\u001b[0;34m)\u001b[0m \u001b[0;34m->\u001b[0m \u001b[0;32mNone\u001b[0m\u001b[0;34m:\u001b[0m\u001b[0;34m\u001b[0m\u001b[0;34m\u001b[0m\u001b[0m\n",
      "\u001b[0;31mAttributeError\u001b[0m: 'DataFrame' object has no attribute 'duration_dt'"
     ]
    }
   ],
   "source": [
    "train_df.duration_dt=train_df.duration_dt.astype(str).apply(lambda x: 'nan' if 'nan' in x else(x[:x.find('days')] if 'days' in x else 0)).astype('float64')"
   ]
  },
  {
   "cell_type": "code",
   "execution_count": null,
   "id": "ff3a38f2",
   "metadata": {
    "execution": {
     "iopub.execute_input": "2023-01-12T22:38:34.218873Z",
     "iopub.status.busy": "2023-01-12T22:38:34.218426Z",
     "iopub.status.idle": "2023-01-12T22:38:34.233994Z",
     "shell.execute_reply": "2023-01-12T22:38:34.232724Z",
     "shell.execute_reply.started": "2023-01-12T22:38:34.218831Z"
    },
    "papermill": {
     "duration": null,
     "end_time": null,
     "exception": null,
     "start_time": null,
     "status": "pending"
    },
    "tags": []
   },
   "outputs": [],
   "source": [
    "train_df.duration_dt.fillna(train_df.duration_dt.mean(), inplace=True)"
   ]
  },
  {
   "cell_type": "code",
   "execution_count": null,
   "id": "2c15e9e1",
   "metadata": {
    "execution": {
     "iopub.execute_input": "2023-01-12T22:21:57.310469Z",
     "iopub.status.busy": "2023-01-12T22:21:57.310083Z",
     "iopub.status.idle": "2023-01-12T22:21:57.321817Z",
     "shell.execute_reply": "2023-01-12T22:21:57.320601Z",
     "shell.execute_reply.started": "2023-01-12T22:21:57.310430Z"
    },
    "papermill": {
     "duration": null,
     "end_time": null,
     "exception": null,
     "start_time": null,
     "status": "pending"
    },
    "tags": []
   },
   "outputs": [],
   "source": [
    "train_df[train_df.duration_dt>700000].shape"
   ]
  },
  {
   "cell_type": "code",
   "execution_count": null,
   "id": "8970431d",
   "metadata": {
    "execution": {
     "iopub.execute_input": "2023-01-12T22:51:21.661774Z",
     "iopub.status.busy": "2023-01-12T22:51:21.661400Z",
     "iopub.status.idle": "2023-01-12T22:51:21.686760Z",
     "shell.execute_reply": "2023-01-12T22:51:21.685627Z",
     "shell.execute_reply.started": "2023-01-12T22:51:21.661742Z"
    },
    "papermill": {
     "duration": null,
     "end_time": null,
     "exception": null,
     "start_time": null,
     "status": "pending"
    },
    "tags": []
   },
   "outputs": [],
   "source": [
    "train_df.groupby('rating').duration_dt.min()"
   ]
  },
  {
   "cell_type": "code",
   "execution_count": null,
   "id": "1901e636",
   "metadata": {
    "execution": {
     "iopub.execute_input": "2023-01-12T22:49:34.425654Z",
     "iopub.status.busy": "2023-01-12T22:49:34.425267Z",
     "iopub.status.idle": "2023-01-12T22:49:35.030484Z",
     "shell.execute_reply": "2023-01-12T22:49:35.029560Z",
     "shell.execute_reply.started": "2023-01-12T22:49:34.425618Z"
    },
    "papermill": {
     "duration": null,
     "end_time": null,
     "exception": null,
     "start_time": null,
     "status": "pending"
    },
    "tags": []
   },
   "outputs": [],
   "source": [
    "plt.hist(train_df.duration_dt.apply(lambda x: -1 if x<0 else(0 if x<10 else(1 if x<25 else(2 if x<50 else 3)))), density=True, stacked=True)"
   ]
  },
  {
   "cell_type": "code",
   "execution_count": null,
   "id": "3f14dea5",
   "metadata": {
    "execution": {
     "iopub.execute_input": "2023-01-12T23:07:46.743991Z",
     "iopub.status.busy": "2023-01-12T23:07:46.743631Z",
     "iopub.status.idle": "2023-01-12T23:07:46.755327Z",
     "shell.execute_reply": "2023-01-12T23:07:46.754253Z",
     "shell.execute_reply.started": "2023-01-12T23:07:46.743960Z"
    },
    "papermill": {
     "duration": null,
     "end_time": null,
     "exception": null,
     "start_time": null,
     "status": "pending"
    },
    "tags": []
   },
   "outputs": [],
   "source": [
    "((train_df.duration_dt>0) & (train_df.duration_dt<5)).sum() "
   ]
  },
  {
   "cell_type": "code",
   "execution_count": null,
   "id": "f8dd47fc",
   "metadata": {
    "execution": {
     "iopub.execute_input": "2023-01-12T23:08:14.120723Z",
     "iopub.status.busy": "2023-01-12T23:08:14.120317Z",
     "iopub.status.idle": "2023-01-12T23:08:14.263203Z",
     "shell.execute_reply": "2023-01-12T23:08:14.261935Z",
     "shell.execute_reply.started": "2023-01-12T23:08:14.120687Z"
    },
    "papermill": {
     "duration": null,
     "end_time": null,
     "exception": null,
     "start_time": null,
     "status": "pending"
    },
    "tags": []
   },
   "outputs": [],
   "source": [
    "train_df.describe()"
   ]
  },
  {
   "cell_type": "code",
   "execution_count": null,
   "id": "cdd8d441",
   "metadata": {
    "execution": {
     "iopub.execute_input": "2023-01-12T23:17:57.964367Z",
     "iopub.status.busy": "2023-01-12T23:17:57.963967Z",
     "iopub.status.idle": "2023-01-12T23:17:57.998871Z",
     "shell.execute_reply": "2023-01-12T23:17:57.997976Z",
     "shell.execute_reply.started": "2023-01-12T23:17:57.964334Z"
    },
    "papermill": {
     "duration": null,
     "end_time": null,
     "exception": null,
     "start_time": null,
     "status": "pending"
    },
    "tags": []
   },
   "outputs": [],
   "source": [
    "features='book_id n_votes n_comments duration_dt review_text'.split()\n",
    "X_train=train_df[features]\n",
    "Y_train=train_df.rating"
   ]
  },
  {
   "cell_type": "code",
   "execution_count": null,
   "id": "7d81cf62",
   "metadata": {
    "execution": {
     "iopub.execute_input": "2023-01-12T23:18:03.931175Z",
     "iopub.status.busy": "2023-01-12T23:18:03.930471Z",
     "iopub.status.idle": "2023-01-12T23:18:03.943630Z",
     "shell.execute_reply": "2023-01-12T23:18:03.942473Z",
     "shell.execute_reply.started": "2023-01-12T23:18:03.931136Z"
    },
    "papermill": {
     "duration": null,
     "end_time": null,
     "exception": null,
     "start_time": null,
     "status": "pending"
    },
    "tags": []
   },
   "outputs": [],
   "source": [
    "X_train.head()"
   ]
  },
  {
   "cell_type": "code",
   "execution_count": null,
   "id": "20e7087c",
   "metadata": {
    "execution": {
     "iopub.execute_input": "2023-01-12T23:37:47.047193Z",
     "iopub.status.busy": "2023-01-12T23:37:47.046469Z",
     "iopub.status.idle": "2023-01-12T23:37:47.053450Z",
     "shell.execute_reply": "2023-01-12T23:37:47.052166Z",
     "shell.execute_reply.started": "2023-01-12T23:37:47.047156Z"
    },
    "papermill": {
     "duration": null,
     "end_time": null,
     "exception": null,
     "start_time": null,
     "status": "pending"
    },
    "tags": []
   },
   "outputs": [],
   "source": [
    "pipeline = Pipeline([\n",
    "    ('features', FeatureUnion([\n",
    "            ('numeric_features', Pipeline([\n",
    "                ('selector', transfomer_numeric)\n",
    "            ])),\n",
    "             ('text_features', Pipeline([\n",
    "                ('selector', transformer_text),\n",
    "                ('vec', TfidfVectorizer(analyzer='word'))\n",
    "            ]))\n",
    "         ])),\n",
    "    ('clf', RandomForestClassifier())\n",
    "])"
   ]
  },
  {
   "cell_type": "code",
   "execution_count": null,
   "id": "b5efeca5",
   "metadata": {
    "execution": {
     "iopub.execute_input": "2023-01-12T23:37:49.810856Z",
     "iopub.status.busy": "2023-01-12T23:37:49.810270Z",
     "iopub.status.idle": "2023-01-12T23:37:49.817452Z",
     "shell.execute_reply": "2023-01-12T23:37:49.815908Z",
     "shell.execute_reply.started": "2023-01-12T23:37:49.810809Z"
    },
    "papermill": {
     "duration": null,
     "end_time": null,
     "exception": null,
     "start_time": null,
     "status": "pending"
    },
    "tags": []
   },
   "outputs": [],
   "source": [
    "param_grid = {'clf__n_estimators': np.linspace(1, 100, 10, dtype=int),\n",
    "              'clf__min_samples_split': [3, 10],\n",
    "              'clf__min_samples_leaf': [3],\n",
    "              'clf__max_features': [7],\n",
    "              'clf__max_depth': [None],\n",
    "              'clf__criterion': ['gini'],\n",
    "              'clf__bootstrap': [False]}"
   ]
  },
  {
   "cell_type": "code",
   "execution_count": null,
   "id": "26eab943",
   "metadata": {
    "execution": {
     "iopub.execute_input": "2023-01-12T23:37:52.414638Z",
     "iopub.status.busy": "2023-01-12T23:37:52.414155Z",
     "iopub.status.idle": "2023-01-12T23:37:52.420667Z",
     "shell.execute_reply": "2023-01-12T23:37:52.419649Z",
     "shell.execute_reply.started": "2023-01-12T23:37:52.414571Z"
    },
    "papermill": {
     "duration": null,
     "end_time": null,
     "exception": null,
     "start_time": null,
     "status": "pending"
    },
    "tags": []
   },
   "outputs": [],
   "source": [
    "kfold = StratifiedKFold(n_splits=7)\n",
    "scoring = {'Accuracy': 'accuracy', 'F1': 'f1_macro'}\n",
    "refit = 'F1'"
   ]
  },
  {
   "cell_type": "code",
   "execution_count": null,
   "id": "f1971ebe",
   "metadata": {
    "execution": {
     "iopub.execute_input": "2023-01-12T23:37:57.749245Z",
     "iopub.status.busy": "2023-01-12T23:37:57.748888Z",
     "iopub.status.idle": "2023-01-12T23:54:59.194737Z",
     "shell.execute_reply": "2023-01-12T23:54:59.192805Z",
     "shell.execute_reply.started": "2023-01-12T23:37:57.749214Z"
    },
    "papermill": {
     "duration": null,
     "end_time": null,
     "exception": null,
     "start_time": null,
     "status": "pending"
    },
    "tags": []
   },
   "outputs": [],
   "source": [
    "rf_model = GridSearchCV(pipeline, param_grid=param_grid, cv=kfold, scoring=scoring, \n",
    "                         refit=refit, n_jobs=-1, return_train_score=True, verbose=1)\n",
    "rf_model.fit(X_train, Y_train)\n",
    "rf_best = rf_model.best_estimator_"
   ]
  },
  {
   "cell_type": "code",
   "execution_count": null,
   "id": "f03abaeb",
   "metadata": {
    "execution": {
     "iopub.execute_input": "2023-01-13T00:03:11.505537Z",
     "iopub.status.busy": "2023-01-13T00:03:11.505170Z",
     "iopub.status.idle": "2023-01-13T00:03:11.533021Z",
     "shell.execute_reply": "2023-01-13T00:03:11.531735Z",
     "shell.execute_reply.started": "2023-01-13T00:03:11.505506Z"
    },
    "papermill": {
     "duration": null,
     "end_time": null,
     "exception": null,
     "start_time": null,
     "status": "pending"
    },
    "tags": []
   },
   "outputs": [],
   "source": [
    "train_df.groupby('rating').n_review_words.sum()"
   ]
  },
  {
   "cell_type": "code",
   "execution_count": null,
   "id": "9f7b9237",
   "metadata": {
    "execution": {
     "iopub.execute_input": "2023-01-13T00:15:43.665160Z",
     "iopub.status.busy": "2023-01-13T00:15:43.664452Z",
     "iopub.status.idle": "2023-01-13T00:15:58.372108Z",
     "shell.execute_reply": "2023-01-13T00:15:58.371166Z",
     "shell.execute_reply.started": "2023-01-13T00:15:43.665120Z"
    },
    "papermill": {
     "duration": null,
     "end_time": null,
     "exception": null,
     "start_time": null,
     "status": "pending"
    },
    "tags": []
   },
   "outputs": [],
   "source": [
    "test_df=pd.read_csv('/kaggle/input/goodreads-books-reviews-290312/goodreads_test.csv')\n",
    "test_df.head()"
   ]
  },
  {
   "cell_type": "code",
   "execution_count": null,
   "id": "07a0306b",
   "metadata": {
    "execution": {
     "iopub.execute_input": "2023-01-13T00:16:53.912181Z",
     "iopub.status.busy": "2023-01-13T00:16:53.911054Z",
     "iopub.status.idle": "2023-01-13T00:16:54.150651Z",
     "shell.execute_reply": "2023-01-13T00:16:54.149635Z",
     "shell.execute_reply.started": "2023-01-13T00:16:53.912132Z"
    },
    "papermill": {
     "duration": null,
     "end_time": null,
     "exception": null,
     "start_time": null,
     "status": "pending"
    },
    "tags": []
   },
   "outputs": [],
   "source": [
    "test_df[test_df.review_text.str.len()<4]"
   ]
  }
 ],
 "metadata": {
  "kernelspec": {
   "display_name": "Python 3",
   "language": "python",
   "name": "python3"
  },
  "language_info": {
   "codemirror_mode": {
    "name": "ipython",
    "version": 3
   },
   "file_extension": ".py",
   "mimetype": "text/x-python",
   "name": "python",
   "nbconvert_exporter": "python",
   "pygments_lexer": "ipython3",
   "version": "3.7.12"
  },
  "papermill": {
   "default_parameters": {},
   "duration": 73.869124,
   "end_time": "2023-01-13T00:19:22.255836",
   "environment_variables": {},
   "exception": true,
   "input_path": "__notebook__.ipynb",
   "output_path": "__notebook__.ipynb",
   "parameters": {},
   "start_time": "2023-01-13T00:18:08.386712",
   "version": "2.3.4"
  }
 },
 "nbformat": 4,
 "nbformat_minor": 5
}
