{
 "cells": [
  {
   "cell_type": "code",
   "execution_count": 1,
   "id": "211954b0",
   "metadata": {
    "_cell_guid": "b1076dfc-b9ad-4769-8c92-a6c4dae69d19",
    "_uuid": "8f2839f25d086af736a60e9eeb907d3b93b6e0e5",
    "execution": {
     "iopub.execute_input": "2024-12-04T20:39:24.419441Z",
     "iopub.status.busy": "2024-12-04T20:39:24.419118Z",
     "iopub.status.idle": "2024-12-04T20:39:25.966644Z",
     "shell.execute_reply": "2024-12-04T20:39:25.965730Z"
    },
    "papermill": {
     "duration": 1.559929,
     "end_time": "2024-12-04T20:39:25.968967",
     "exception": false,
     "start_time": "2024-12-04T20:39:24.409038",
     "status": "completed"
    },
    "tags": []
   },
   "outputs": [],
   "source": [
    "import numpy as np \n",
    "import pandas as pd \n",
    "import matplotlib.pyplot as plt\n",
    "import seaborn as sns\n",
    "\n",
    "from sklearn.feature_extraction.text import TfidfVectorizer, CountVectorizer, TfidfTransformer\n",
    "from sklearn.pipeline import Pipeline, FeatureUnion\n",
    "from sklearn.ensemble import RandomForestClassifier\n",
    "from sklearn.linear_model import LogisticRegression\n",
    "from sklearn.preprocessing import FunctionTransformer\n",
    "from sklearn.model_selection import GridSearchCV, StratifiedKFold, train_test_split\n",
    "\n",
    "import nltk\n",
    "from nltk.corpus import stopwords\n",
    "from nltk.stem.porter import PorterStemmer\n",
    "import re"
   ]
  },
  {
   "cell_type": "code",
   "execution_count": 2,
   "id": "21e4210b",
   "metadata": {
    "execution": {
     "iopub.execute_input": "2024-12-04T20:39:25.989238Z",
     "iopub.status.busy": "2024-12-04T20:39:25.988510Z",
     "iopub.status.idle": "2024-12-04T20:39:25.994497Z",
     "shell.execute_reply": "2024-12-04T20:39:25.993579Z"
    },
    "papermill": {
     "duration": 0.020023,
     "end_time": "2024-12-04T20:39:25.997338",
     "exception": false,
     "start_time": "2024-12-04T20:39:25.977315",
     "status": "completed"
    },
    "tags": []
   },
   "outputs": [],
   "source": [
    "pd.set_option('display.max_rows', 500)\n",
    "pd.set_option('display.max_columns', 500)\n",
    "pd.set_option('display.width', 1000)\n",
    "pd.set_option('max_colwidth', 500)"
   ]
  },
  {
   "cell_type": "code",
   "execution_count": 3,
   "id": "7139282e",
   "metadata": {
    "execution": {
     "iopub.execute_input": "2024-12-04T20:39:26.014662Z",
     "iopub.status.busy": "2024-12-04T20:39:26.014105Z",
     "iopub.status.idle": "2024-12-04T20:39:26.018300Z",
     "shell.execute_reply": "2024-12-04T20:39:26.017553Z"
    },
    "papermill": {
     "duration": 0.014387,
     "end_time": "2024-12-04T20:39:26.020035",
     "exception": false,
     "start_time": "2024-12-04T20:39:26.005648",
     "status": "completed"
    },
    "tags": []
   },
   "outputs": [],
   "source": [
    "custom_style = {'axes.labelcolor': 'white',\n",
    "                'xtick.color': 'black',\n",
    "                'ytick.color': 'black',\n",
    "                'text.color': 'black'}\n",
    "sns.set_style(\"darkgrid\", rc=custom_style)"
   ]
  },
  {
   "cell_type": "code",
   "execution_count": 4,
   "id": "f2988bce",
   "metadata": {
    "execution": {
     "iopub.execute_input": "2024-12-04T20:39:26.036369Z",
     "iopub.status.busy": "2024-12-04T20:39:26.035845Z",
     "iopub.status.idle": "2024-12-04T20:39:26.039601Z",
     "shell.execute_reply": "2024-12-04T20:39:26.038843Z"
    },
    "papermill": {
     "duration": 0.013603,
     "end_time": "2024-12-04T20:39:26.041239",
     "exception": false,
     "start_time": "2024-12-04T20:39:26.027636",
     "status": "completed"
    },
    "tags": []
   },
   "outputs": [],
   "source": [
    "def barchart(data, x, y):\n",
    "   sns.barplot(x = x,\n",
    "               y = y,\n",
    "               data = data)\n",
    "   plt.show()"
   ]
  },
  {
   "cell_type": "code",
   "execution_count": 5,
   "id": "ecd69d1f",
   "metadata": {
    "execution": {
     "iopub.execute_input": "2024-12-04T20:39:26.057613Z",
     "iopub.status.busy": "2024-12-04T20:39:26.057377Z",
     "iopub.status.idle": "2024-12-04T20:39:26.061740Z",
     "shell.execute_reply": "2024-12-04T20:39:26.060986Z"
    },
    "papermill": {
     "duration": 0.014406,
     "end_time": "2024-12-04T20:39:26.063361",
     "exception": false,
     "start_time": "2024-12-04T20:39:26.048955",
     "status": "completed"
    },
    "tags": []
   },
   "outputs": [],
   "source": [
    "def piechart(data, values, labels):\n",
    "    colors = sns.color_palette('pastel')[0:5]\n",
    "    explode = [0.1, 0, 0, 0, 0, 0]\n",
    "    plt.pie(data[values], labels=data[labels], colors=colors, explode=explode, autopct='%.0f%%')\n",
    "    plt.show()\n",
    "          "
   ]
  },
  {
   "cell_type": "code",
   "execution_count": 6,
   "id": "0b4fe749",
   "metadata": {
    "execution": {
     "iopub.execute_input": "2024-12-04T20:39:26.079744Z",
     "iopub.status.busy": "2024-12-04T20:39:26.079518Z",
     "iopub.status.idle": "2024-12-04T20:39:26.084462Z",
     "shell.execute_reply": "2024-12-04T20:39:26.083637Z"
    },
    "papermill": {
     "duration": 0.015045,
     "end_time": "2024-12-04T20:39:26.086110",
     "exception": false,
     "start_time": "2024-12-04T20:39:26.071065",
     "status": "completed"
    },
    "tags": []
   },
   "outputs": [],
   "source": [
    "def clean_text(text):\n",
    "    '''Make text lowercase, remove text in square brackets,remove links,remove punctuation\n",
    "    and remove words containing numbers.'''\n",
    "    text = str(text).lower()\n",
    "    text = re.sub('\\[.*?\\]', '', text)\n",
    "    text = re.sub('https?://\\S+|www\\.\\S+', '', text)\n",
    "    text = re.sub('<.*?>+', '', text)\n",
    "    text = re.sub('\\n', '', text)\n",
    "    text = re.sub('\\w*\\d\\w*', '', text)\n",
    "    return text"
   ]
  },
  {
   "cell_type": "code",
   "execution_count": 7,
   "id": "2f4d3e7b",
   "metadata": {
    "execution": {
     "iopub.execute_input": "2024-12-04T20:39:26.103012Z",
     "iopub.status.busy": "2024-12-04T20:39:26.102532Z",
     "iopub.status.idle": "2024-12-04T20:39:26.110954Z",
     "shell.execute_reply": "2024-12-04T20:39:26.110342Z"
    },
    "papermill": {
     "duration": 0.01846,
     "end_time": "2024-12-04T20:39:26.112527",
     "exception": false,
     "start_time": "2024-12-04T20:39:26.094067",
     "status": "completed"
    },
    "tags": []
   },
   "outputs": [],
   "source": [
    "stop_words = stopwords.words('english')\n",
    "more_stopwords = ['u', 'im', 'c']\n",
    "stop_words = stop_words + more_stopwords"
   ]
  },
  {
   "cell_type": "code",
   "execution_count": 8,
   "id": "668d2e5f",
   "metadata": {
    "execution": {
     "iopub.execute_input": "2024-12-04T20:39:26.128961Z",
     "iopub.status.busy": "2024-12-04T20:39:26.128469Z",
     "iopub.status.idle": "2024-12-04T20:39:26.131941Z",
     "shell.execute_reply": "2024-12-04T20:39:26.131184Z"
    },
    "papermill": {
     "duration": 0.013477,
     "end_time": "2024-12-04T20:39:26.133635",
     "exception": false,
     "start_time": "2024-12-04T20:39:26.120158",
     "status": "completed"
    },
    "tags": []
   },
   "outputs": [],
   "source": [
    "stemmer = PorterStemmer()"
   ]
  },
  {
   "cell_type": "code",
   "execution_count": 9,
   "id": "f157bb8d",
   "metadata": {
    "execution": {
     "iopub.execute_input": "2024-12-04T20:39:26.149970Z",
     "iopub.status.busy": "2024-12-04T20:39:26.149728Z",
     "iopub.status.idle": "2024-12-04T20:39:26.154045Z",
     "shell.execute_reply": "2024-12-04T20:39:26.153346Z"
    },
    "papermill": {
     "duration": 0.014508,
     "end_time": "2024-12-04T20:39:26.155736",
     "exception": false,
     "start_time": "2024-12-04T20:39:26.141228",
     "status": "completed"
    },
    "tags": []
   },
   "outputs": [],
   "source": [
    "def preprocess_review(text):\n",
    "    # Clean puntuation, urls, and so on\n",
    "    text = clean_text(text)\n",
    "    # Remove stopwords\n",
    "    text = ' '.join(word for word in text.split(' ') if word not in stop_words)\n",
    "    # Stemm all the words in the sentence\n",
    "    text = ' '.join(stemmer.stem(word) for word in text.split(' '))\n",
    "    \n",
    "    return text"
   ]
  },
  {
   "cell_type": "markdown",
   "id": "4dd7fa89",
   "metadata": {
    "papermill": {
     "duration": 0.00739,
     "end_time": "2024-12-04T20:39:26.170713",
     "exception": false,
     "start_time": "2024-12-04T20:39:26.163323",
     "status": "completed"
    },
    "tags": []
   },
   "source": [
    "## Classification in training dataset"
   ]
  },
  {
   "cell_type": "code",
   "execution_count": 10,
   "id": "5082e574",
   "metadata": {
    "execution": {
     "iopub.execute_input": "2024-12-04T20:39:26.186869Z",
     "iopub.status.busy": "2024-12-04T20:39:26.186613Z",
     "iopub.status.idle": "2024-12-04T20:39:46.242854Z",
     "shell.execute_reply": "2024-12-04T20:39:46.241943Z"
    },
    "papermill": {
     "duration": 20.066462,
     "end_time": "2024-12-04T20:39:46.244722",
     "exception": false,
     "start_time": "2024-12-04T20:39:26.178260",
     "status": "completed"
    },
    "tags": []
   },
   "outputs": [
    {
     "data": {
      "text/html": [
       "<div>\n",
       "<style scoped>\n",
       "    .dataframe tbody tr th:only-of-type {\n",
       "        vertical-align: middle;\n",
       "    }\n",
       "\n",
       "    .dataframe tbody tr th {\n",
       "        vertical-align: top;\n",
       "    }\n",
       "\n",
       "    .dataframe thead th {\n",
       "        text-align: right;\n",
       "    }\n",
       "</style>\n",
       "<table border=\"1\" class=\"dataframe\">\n",
       "  <thead>\n",
       "    <tr style=\"text-align: right;\">\n",
       "      <th></th>\n",
       "      <th>user_id</th>\n",
       "      <th>book_id</th>\n",
       "      <th>review_id</th>\n",
       "      <th>rating</th>\n",
       "      <th>review_text</th>\n",
       "      <th>date_added</th>\n",
       "      <th>date_updated</th>\n",
       "      <th>read_at</th>\n",
       "      <th>started_at</th>\n",
       "      <th>n_votes</th>\n",
       "      <th>n_comments</th>\n",
       "    </tr>\n",
       "  </thead>\n",
       "  <tbody>\n",
       "    <tr>\n",
       "      <th>0</th>\n",
       "      <td>8842281e1d1347389f2ab93d60773d4d</td>\n",
       "      <td>18245960</td>\n",
       "      <td>dfdbb7b0eb5a7e4c26d59a937e2e5feb</td>\n",
       "      <td>5</td>\n",
       "      <td>This is a special book. It started slow for about the first third, then in the middle third it started to get interesting, then the last third blew my mind. This is what I love about good science fiction - it pushes your thinking about where things can go. \\n It is a 2015 Hugo winner, and translated from its original Chinese, which made it interesting in just a different way from most things I've read. For instance the intermixing of Chinese revolutionary history - how they kept accusing peo...</td>\n",
       "      <td>Sun Jul 30 07:44:10 -0700 2017</td>\n",
       "      <td>Wed Aug 30 00:00:26 -0700 2017</td>\n",
       "      <td>Sat Aug 26 12:05:52 -0700 2017</td>\n",
       "      <td>Tue Aug 15 13:23:18 -0700 2017</td>\n",
       "      <td>28</td>\n",
       "      <td>1</td>\n",
       "    </tr>\n",
       "    <tr>\n",
       "      <th>1</th>\n",
       "      <td>8842281e1d1347389f2ab93d60773d4d</td>\n",
       "      <td>16981</td>\n",
       "      <td>a5d2c3628987712d0e05c4f90798eb67</td>\n",
       "      <td>3</td>\n",
       "      <td>Recommended by Don Katz. Avail for free in December: http://www.audible.com/mt/ellison2?so...</td>\n",
       "      <td>Mon Dec 05 10:46:44 -0800 2016</td>\n",
       "      <td>Wed Mar 22 11:37:04 -0700 2017</td>\n",
       "      <td>NaN</td>\n",
       "      <td>NaN</td>\n",
       "      <td>1</td>\n",
       "      <td>0</td>\n",
       "    </tr>\n",
       "    <tr>\n",
       "      <th>2</th>\n",
       "      <td>8842281e1d1347389f2ab93d60773d4d</td>\n",
       "      <td>28684704</td>\n",
       "      <td>2ede853b14dc4583f96cf5d120af636f</td>\n",
       "      <td>3</td>\n",
       "      <td>A fun, fast paced science fiction thriller. I read it in 2 nights and couldn't put it down. The book is about the quantum theory of many worlds which states that all decisions we make throughout our lives basically create branches, and that each possible path through the decision tree can be thought of as a parallel world. And in this book, someone invents a way to switch between these worlds. This was nicely alluded to/foreshadowed in this quote: \\n \"I think about all the choices we've made...</td>\n",
       "      <td>Tue Nov 15 11:29:22 -0800 2016</td>\n",
       "      <td>Mon Mar 20 23:40:27 -0700 2017</td>\n",
       "      <td>Sat Mar 18 23:22:42 -0700 2017</td>\n",
       "      <td>Fri Mar 17 23:45:40 -0700 2017</td>\n",
       "      <td>22</td>\n",
       "      <td>0</td>\n",
       "    </tr>\n",
       "    <tr>\n",
       "      <th>3</th>\n",
       "      <td>8842281e1d1347389f2ab93d60773d4d</td>\n",
       "      <td>27161156</td>\n",
       "      <td>ced5675e55cd9d38a524743f5c40996e</td>\n",
       "      <td>0</td>\n",
       "      <td>Recommended reading to understand what is going on in middle america, and possibly better explain why Trump won. http://www.npr.org/2016/11/09/5013826...</td>\n",
       "      <td>Wed Nov 09 17:37:04 -0800 2016</td>\n",
       "      <td>Wed Nov 09 17:38:20 -0800 2016</td>\n",
       "      <td>NaN</td>\n",
       "      <td>NaN</td>\n",
       "      <td>5</td>\n",
       "      <td>1</td>\n",
       "    </tr>\n",
       "    <tr>\n",
       "      <th>4</th>\n",
       "      <td>8842281e1d1347389f2ab93d60773d4d</td>\n",
       "      <td>25884323</td>\n",
       "      <td>332732725863131279a8e345b63ac33e</td>\n",
       "      <td>4</td>\n",
       "      <td>I really enjoyed this book, and there is a lot to recommend it. It did drag on a little at the end so I knocked off 1 star - but overall a wow book. \\n It's the story of a starship sent to Tau Ceti - the nearest star that has Earth analog planets - to colonize it. The journey there will take generations, and the story is told of the 3rd &amp; 4th (?) generations, which are the ones that reaches Tau Ceti. It is a story of purpose, and how having a purpose affects behavior. A story of politics, an...</td>\n",
       "      <td>Mon Apr 25 09:31:23 -0700 2016</td>\n",
       "      <td>Mon Apr 25 09:31:23 -0700 2016</td>\n",
       "      <td>Sun Jun 26 00:00:00 -0700 2016</td>\n",
       "      <td>Sat May 28 00:00:00 -0700 2016</td>\n",
       "      <td>9</td>\n",
       "      <td>1</td>\n",
       "    </tr>\n",
       "  </tbody>\n",
       "</table>\n",
       "</div>"
      ],
      "text/plain": [
       "                            user_id   book_id                         review_id  rating                                                                                                                                                                                                                                                                                                                                                                                                                                                                                                          review_text                      date_added                    date_updated                         read_at                      started_at  n_votes  n_comments\n",
       "0  8842281e1d1347389f2ab93d60773d4d  18245960  dfdbb7b0eb5a7e4c26d59a937e2e5feb       5  This is a special book. It started slow for about the first third, then in the middle third it started to get interesting, then the last third blew my mind. This is what I love about good science fiction - it pushes your thinking about where things can go. \\n It is a 2015 Hugo winner, and translated from its original Chinese, which made it interesting in just a different way from most things I've read. For instance the intermixing of Chinese revolutionary history - how they kept accusing peo...  Sun Jul 30 07:44:10 -0700 2017  Wed Aug 30 00:00:26 -0700 2017  Sat Aug 26 12:05:52 -0700 2017  Tue Aug 15 13:23:18 -0700 2017       28           1\n",
       "1  8842281e1d1347389f2ab93d60773d4d     16981  a5d2c3628987712d0e05c4f90798eb67       3                                                                                                                                                                                                                                                                                                                                                                                                                        Recommended by Don Katz. Avail for free in December: http://www.audible.com/mt/ellison2?so...  Mon Dec 05 10:46:44 -0800 2016  Wed Mar 22 11:37:04 -0700 2017                             NaN                             NaN        1           0\n",
       "2  8842281e1d1347389f2ab93d60773d4d  28684704  2ede853b14dc4583f96cf5d120af636f       3  A fun, fast paced science fiction thriller. I read it in 2 nights and couldn't put it down. The book is about the quantum theory of many worlds which states that all decisions we make throughout our lives basically create branches, and that each possible path through the decision tree can be thought of as a parallel world. And in this book, someone invents a way to switch between these worlds. This was nicely alluded to/foreshadowed in this quote: \\n \"I think about all the choices we've made...  Tue Nov 15 11:29:22 -0800 2016  Mon Mar 20 23:40:27 -0700 2017  Sat Mar 18 23:22:42 -0700 2017  Fri Mar 17 23:45:40 -0700 2017       22           0\n",
       "3  8842281e1d1347389f2ab93d60773d4d  27161156  ced5675e55cd9d38a524743f5c40996e       0                                                                                                                                                                                                                                                                                                                                                            Recommended reading to understand what is going on in middle america, and possibly better explain why Trump won. http://www.npr.org/2016/11/09/5013826...  Wed Nov 09 17:37:04 -0800 2016  Wed Nov 09 17:38:20 -0800 2016                             NaN                             NaN        5           1\n",
       "4  8842281e1d1347389f2ab93d60773d4d  25884323  332732725863131279a8e345b63ac33e       4  I really enjoyed this book, and there is a lot to recommend it. It did drag on a little at the end so I knocked off 1 star - but overall a wow book. \\n It's the story of a starship sent to Tau Ceti - the nearest star that has Earth analog planets - to colonize it. The journey there will take generations, and the story is told of the 3rd & 4th (?) generations, which are the ones that reaches Tau Ceti. It is a story of purpose, and how having a purpose affects behavior. A story of politics, an...  Mon Apr 25 09:31:23 -0700 2016  Mon Apr 25 09:31:23 -0700 2016  Sun Jun 26 00:00:00 -0700 2016  Sat May 28 00:00:00 -0700 2016        9           1"
      ]
     },
     "execution_count": 10,
     "metadata": {},
     "output_type": "execute_result"
    }
   ],
   "source": [
    "train_df=pd.read_csv('/kaggle/input/goodreads-books-reviews-290312/goodreads_train.csv')\n",
    "train_df.head()"
   ]
  },
  {
   "cell_type": "code",
   "execution_count": 11,
   "id": "a42b23a3",
   "metadata": {
    "execution": {
     "iopub.execute_input": "2024-12-04T20:39:46.262290Z",
     "iopub.status.busy": "2024-12-04T20:39:46.262013Z",
     "iopub.status.idle": "2024-12-04T20:39:46.268495Z",
     "shell.execute_reply": "2024-12-04T20:39:46.267650Z"
    },
    "papermill": {
     "duration": 0.016961,
     "end_time": "2024-12-04T20:39:46.270133",
     "exception": false,
     "start_time": "2024-12-04T20:39:46.253172",
     "status": "completed"
    },
    "tags": []
   },
   "outputs": [
    {
     "data": {
      "text/plain": [
       "user_id         object\n",
       "book_id          int64\n",
       "review_id       object\n",
       "rating           int64\n",
       "review_text     object\n",
       "date_added      object\n",
       "date_updated    object\n",
       "read_at         object\n",
       "started_at      object\n",
       "n_votes          int64\n",
       "n_comments       int64\n",
       "dtype: object"
      ]
     },
     "execution_count": 11,
     "metadata": {},
     "output_type": "execute_result"
    }
   ],
   "source": [
    "train_df.dtypes"
   ]
  },
  {
   "cell_type": "code",
   "execution_count": 12,
   "id": "35342ec7",
   "metadata": {
    "execution": {
     "iopub.execute_input": "2024-12-04T20:39:46.287658Z",
     "iopub.status.busy": "2024-12-04T20:39:46.287105Z",
     "iopub.status.idle": "2024-12-04T20:39:46.630772Z",
     "shell.execute_reply": "2024-12-04T20:39:46.629886Z"
    },
    "papermill": {
     "duration": 0.354491,
     "end_time": "2024-12-04T20:39:46.632682",
     "exception": false,
     "start_time": "2024-12-04T20:39:46.278191",
     "status": "completed"
    },
    "tags": []
   },
   "outputs": [
    {
     "data": {
      "text/plain": [
       "user_id              0\n",
       "book_id              0\n",
       "review_id            0\n",
       "rating               0\n",
       "review_text          0\n",
       "date_added           0\n",
       "date_updated         0\n",
       "read_at          91766\n",
       "started_at      274297\n",
       "n_votes              0\n",
       "n_comments           0\n",
       "dtype: int64"
      ]
     },
     "execution_count": 12,
     "metadata": {},
     "output_type": "execute_result"
    }
   ],
   "source": [
    "train_df.isnull().sum()"
   ]
  },
  {
   "cell_type": "code",
   "execution_count": 13,
   "id": "8383b837",
   "metadata": {
    "execution": {
     "iopub.execute_input": "2024-12-04T20:39:46.650619Z",
     "iopub.status.busy": "2024-12-04T20:39:46.650162Z",
     "iopub.status.idle": "2024-12-04T20:39:58.036135Z",
     "shell.execute_reply": "2024-12-04T20:39:58.035165Z"
    },
    "papermill": {
     "duration": 11.397062,
     "end_time": "2024-12-04T20:39:58.038143",
     "exception": false,
     "start_time": "2024-12-04T20:39:46.641081",
     "status": "completed"
    },
    "tags": []
   },
   "outputs": [
    {
     "data": {
      "text/plain": [
       "<AxesSubplot:>"
      ]
     },
     "execution_count": 13,
     "metadata": {},
     "output_type": "execute_result"
    },
    {
     "data": {
      "image/png": "[encoded data removed]",
      "text/plain": [
       "<Figure size 432x288 with 2 Axes>"
      ]
     },
     "metadata": {},
     "output_type": "display_data"
    }
   ],
   "source": [
    "sns.heatmap(train_df.isnull())"
   ]
  },
  {
   "cell_type": "code",
   "execution_count": 14,
   "id": "9f01f2d9",
   "metadata": {
    "execution": {
     "iopub.execute_input": "2024-12-04T20:39:58.056982Z",
     "iopub.status.busy": "2024-12-04T20:39:58.056728Z",
     "iopub.status.idle": "2024-12-04T20:39:58.134009Z",
     "shell.execute_reply": "2024-12-04T20:39:58.133107Z"
    },
    "papermill": {
     "duration": 0.088738,
     "end_time": "2024-12-04T20:39:58.135887",
     "exception": false,
     "start_time": "2024-12-04T20:39:58.047149",
     "status": "completed"
    },
    "tags": []
   },
   "outputs": [
    {
     "data": {
      "text/html": [
       "<div>\n",
       "<style scoped>\n",
       "    .dataframe tbody tr th:only-of-type {\n",
       "        vertical-align: middle;\n",
       "    }\n",
       "\n",
       "    .dataframe tbody tr th {\n",
       "        vertical-align: top;\n",
       "    }\n",
       "\n",
       "    .dataframe thead th {\n",
       "        text-align: right;\n",
       "    }\n",
       "</style>\n",
       "<table border=\"1\" class=\"dataframe\">\n",
       "  <thead>\n",
       "    <tr style=\"text-align: right;\">\n",
       "      <th></th>\n",
       "      <th>book_id</th>\n",
       "      <th>mean_rating</th>\n",
       "    </tr>\n",
       "  </thead>\n",
       "  <tbody>\n",
       "    <tr>\n",
       "      <th>0</th>\n",
       "      <td>22844208</td>\n",
       "      <td>5.000000</td>\n",
       "    </tr>\n",
       "    <tr>\n",
       "      <th>1</th>\n",
       "      <td>11497913</td>\n",
       "      <td>5.000000</td>\n",
       "    </tr>\n",
       "    <tr>\n",
       "      <th>2</th>\n",
       "      <td>23456237</td>\n",
       "      <td>5.000000</td>\n",
       "    </tr>\n",
       "    <tr>\n",
       "      <th>3</th>\n",
       "      <td>14740811</td>\n",
       "      <td>5.000000</td>\n",
       "    </tr>\n",
       "    <tr>\n",
       "      <th>4</th>\n",
       "      <td>12997592</td>\n",
       "      <td>5.000000</td>\n",
       "    </tr>\n",
       "    <tr>\n",
       "      <th>5</th>\n",
       "      <td>16046507</td>\n",
       "      <td>5.000000</td>\n",
       "    </tr>\n",
       "    <tr>\n",
       "      <th>6</th>\n",
       "      <td>29810309</td>\n",
       "      <td>5.000000</td>\n",
       "    </tr>\n",
       "    <tr>\n",
       "      <th>7</th>\n",
       "      <td>35383830</td>\n",
       "      <td>5.000000</td>\n",
       "    </tr>\n",
       "    <tr>\n",
       "      <th>8</th>\n",
       "      <td>8442726</td>\n",
       "      <td>5.000000</td>\n",
       "    </tr>\n",
       "    <tr>\n",
       "      <th>9</th>\n",
       "      <td>25820867</td>\n",
       "      <td>5.000000</td>\n",
       "    </tr>\n",
       "    <tr>\n",
       "      <th>10</th>\n",
       "      <td>17130393</td>\n",
       "      <td>5.000000</td>\n",
       "    </tr>\n",
       "    <tr>\n",
       "      <th>11</th>\n",
       "      <td>34083908</td>\n",
       "      <td>5.000000</td>\n",
       "    </tr>\n",
       "    <tr>\n",
       "      <th>12</th>\n",
       "      <td>883438</td>\n",
       "      <td>5.000000</td>\n",
       "    </tr>\n",
       "    <tr>\n",
       "      <th>13</th>\n",
       "      <td>8723736</td>\n",
       "      <td>5.000000</td>\n",
       "    </tr>\n",
       "    <tr>\n",
       "      <th>14</th>\n",
       "      <td>32875195</td>\n",
       "      <td>4.937500</td>\n",
       "    </tr>\n",
       "    <tr>\n",
       "      <th>15</th>\n",
       "      <td>17347379</td>\n",
       "      <td>4.937500</td>\n",
       "    </tr>\n",
       "    <tr>\n",
       "      <th>16</th>\n",
       "      <td>31421768</td>\n",
       "      <td>4.928571</td>\n",
       "    </tr>\n",
       "    <tr>\n",
       "      <th>17</th>\n",
       "      <td>15746527</td>\n",
       "      <td>4.916667</td>\n",
       "    </tr>\n",
       "    <tr>\n",
       "      <th>18</th>\n",
       "      <td>8786481</td>\n",
       "      <td>4.916667</td>\n",
       "    </tr>\n",
       "    <tr>\n",
       "      <th>19</th>\n",
       "      <td>17347382</td>\n",
       "      <td>4.913043</td>\n",
       "    </tr>\n",
       "  </tbody>\n",
       "</table>\n",
       "</div>"
      ],
      "text/plain": [
       "     book_id  mean_rating\n",
       "0   22844208     5.000000\n",
       "1   11497913     5.000000\n",
       "2   23456237     5.000000\n",
       "3   14740811     5.000000\n",
       "4   12997592     5.000000\n",
       "5   16046507     5.000000\n",
       "6   29810309     5.000000\n",
       "7   35383830     5.000000\n",
       "8    8442726     5.000000\n",
       "9   25820867     5.000000\n",
       "10  17130393     5.000000\n",
       "11  34083908     5.000000\n",
       "12    883438     5.000000\n",
       "13   8723736     5.000000\n",
       "14  32875195     4.937500\n",
       "15  17347379     4.937500\n",
       "16  31421768     4.928571\n",
       "17  15746527     4.916667\n",
       "18   8786481     4.916667\n",
       "19  17347382     4.913043"
      ]
     },
     "execution_count": 14,
     "metadata": {},
     "output_type": "execute_result"
    }
   ],
   "source": [
    "r_bid=train_df.groupby('book_id').rating.mean().sort_values(ascending=False).reset_index().head(20)\n",
    "r_bid.rename({'rating':'mean_rating'}, axis=1, inplace=True)\n",
    "r_bid"
   ]
  },
  {
   "cell_type": "code",
   "execution_count": 15,
   "id": "64d5d8fc",
   "metadata": {
    "execution": {
     "iopub.execute_input": "2024-12-04T20:39:58.156020Z",
     "iopub.status.busy": "2024-12-04T20:39:58.155735Z",
     "iopub.status.idle": "2024-12-04T20:39:58.171209Z",
     "shell.execute_reply": "2024-12-04T20:39:58.170466Z"
    },
    "papermill": {
     "duration": 0.027329,
     "end_time": "2024-12-04T20:39:58.172942",
     "exception": false,
     "start_time": "2024-12-04T20:39:58.145613",
     "status": "completed"
    },
    "tags": []
   },
   "outputs": [
    {
     "data": {
      "text/html": [
       "<div>\n",
       "<style scoped>\n",
       "    .dataframe tbody tr th:only-of-type {\n",
       "        vertical-align: middle;\n",
       "    }\n",
       "\n",
       "    .dataframe tbody tr th {\n",
       "        vertical-align: top;\n",
       "    }\n",
       "\n",
       "    .dataframe thead th {\n",
       "        text-align: right;\n",
       "    }\n",
       "</style>\n",
       "<table border=\"1\" class=\"dataframe\">\n",
       "  <thead>\n",
       "    <tr style=\"text-align: right;\">\n",
       "      <th></th>\n",
       "      <th>rating</th>\n",
       "      <th>rating_weight</th>\n",
       "    </tr>\n",
       "  </thead>\n",
       "  <tbody>\n",
       "    <tr>\n",
       "      <th>0</th>\n",
       "      <td>4</td>\n",
       "      <td>0.348542</td>\n",
       "    </tr>\n",
       "    <tr>\n",
       "      <th>1</th>\n",
       "      <td>5</td>\n",
       "      <td>0.294452</td>\n",
       "    </tr>\n",
       "    <tr>\n",
       "      <th>2</th>\n",
       "      <td>3</td>\n",
       "      <td>0.209969</td>\n",
       "    </tr>\n",
       "    <tr>\n",
       "      <th>3</th>\n",
       "      <td>2</td>\n",
       "      <td>0.080697</td>\n",
       "    </tr>\n",
       "    <tr>\n",
       "      <th>4</th>\n",
       "      <td>0</td>\n",
       "      <td>0.034431</td>\n",
       "    </tr>\n",
       "    <tr>\n",
       "      <th>5</th>\n",
       "      <td>1</td>\n",
       "      <td>0.031909</td>\n",
       "    </tr>\n",
       "  </tbody>\n",
       "</table>\n",
       "</div>"
      ],
      "text/plain": [
       "   rating  rating_weight\n",
       "0       4       0.348542\n",
       "1       5       0.294452\n",
       "2       3       0.209969\n",
       "3       2       0.080697\n",
       "4       0       0.034431\n",
       "5       1       0.031909"
      ]
     },
     "execution_count": 15,
     "metadata": {},
     "output_type": "execute_result"
    }
   ],
   "source": [
    "nr_users=train_df.rating.value_counts(normalize=True).reset_index()\n",
    "nr_users.columns='rating rating_weight'.split()\n",
    "nr_users"
   ]
  },
  {
   "cell_type": "code",
   "execution_count": 16,
   "id": "654550fb",
   "metadata": {
    "execution": {
     "iopub.execute_input": "2024-12-04T20:39:58.192687Z",
     "iopub.status.busy": "2024-12-04T20:39:58.192374Z",
     "iopub.status.idle": "2024-12-04T20:39:58.301555Z",
     "shell.execute_reply": "2024-12-04T20:39:58.300420Z"
    },
    "papermill": {
     "duration": 0.122595,
     "end_time": "2024-12-04T20:39:58.304922",
     "exception": false,
     "start_time": "2024-12-04T20:39:58.182327",
     "status": "completed"
    },
    "tags": []
   },
   "outputs": [
    {
     "data": {
      "image/png": "[encoded data removed]",
      "text/plain": [
       "<Figure size 432x288 with 1 Axes>"
      ]
     },
     "metadata": {},
     "output_type": "display_data"
    }
   ],
   "source": [
    "piechart(nr_users, 'rating_weight', 'rating')       "
   ]
  },
  {
   "cell_type": "code",
   "execution_count": 17,
   "id": "483a6d78",
   "metadata": {
    "execution": {
     "iopub.execute_input": "2024-12-04T20:39:58.366518Z",
     "iopub.status.busy": "2024-12-04T20:39:58.366039Z",
     "iopub.status.idle": "2024-12-04T20:39:58.375260Z",
     "shell.execute_reply": "2024-12-04T20:39:58.374133Z"
    },
    "papermill": {
     "duration": 0.043731,
     "end_time": "2024-12-04T20:39:58.378512",
     "exception": false,
     "start_time": "2024-12-04T20:39:58.334781",
     "status": "completed"
    },
    "tags": []
   },
   "outputs": [],
   "source": [
    "DATE_FORMAT = '%a %b %d %H:%M:%S %z %Y'\n",
    "\n",
    "def parse_date(date_str):\n",
    "    if (date_str != date_str) or (date_str is None):\n",
    "        return None\n",
    "    if len(date_str.split()) != 6:\n",
    "        return None\n",
    "    else:\n",
    "        try:\n",
    "            return datetime.strptime(date_str, DATE_FORMAT)\n",
    "        except Exception as e:\n",
    "            print(date_str, e)\n",
    "        return None"
   ]
  },
  {
   "cell_type": "code",
   "execution_count": 18,
   "id": "246bdeef",
   "metadata": {
    "execution": {
     "iopub.execute_input": "2024-12-04T20:39:58.413251Z",
     "iopub.status.busy": "2024-12-04T20:39:58.413032Z",
     "iopub.status.idle": "2024-12-04T20:40:19.513915Z",
     "shell.execute_reply": "2024-12-04T20:40:19.513139Z"
    },
    "papermill": {
     "duration": 21.113738,
     "end_time": "2024-12-04T20:40:19.516186",
     "exception": false,
     "start_time": "2024-12-04T20:39:58.402448",
     "status": "completed"
    },
    "tags": []
   },
   "outputs": [],
   "source": [
    "from datetime import datetime\n",
    "train_df['started_at_dt'] = train_df.started_at.apply(lambda x : parse_date(x))\n",
    "train_df['read_at_dt'] = train_df.read_at.apply(lambda x : parse_date(x))\n",
    "train_df['duration_dt'] = train_df.read_at_dt - train_df.started_at_dt"
   ]
  },
  {
   "cell_type": "code",
   "execution_count": 19,
   "id": "c2e123d6",
   "metadata": {
    "execution": {
     "iopub.execute_input": "2024-12-04T20:40:19.537068Z",
     "iopub.status.busy": "2024-12-04T20:40:19.536505Z",
     "iopub.status.idle": "2024-12-04T20:40:20.513382Z",
     "shell.execute_reply": "2024-12-04T20:40:20.512490Z"
    },
    "papermill": {
     "duration": 0.989792,
     "end_time": "2024-12-04T20:40:20.515779",
     "exception": false,
     "start_time": "2024-12-04T20:40:19.525987",
     "status": "completed"
    },
    "tags": []
   },
   "outputs": [],
   "source": [
    "train_df.duration_dt=train_df.duration_dt.astype(str).apply(lambda x: 'nan' if 'nan' in x else(x[:x.find('days')] if 'days' in x else 0)).astype('float64')"
   ]
  },
  {
   "cell_type": "code",
   "execution_count": 20,
   "id": "044f85a1",
   "metadata": {
    "execution": {
     "iopub.execute_input": "2024-12-04T20:40:20.536149Z",
     "iopub.status.busy": "2024-12-04T20:40:20.535868Z",
     "iopub.status.idle": "2024-12-04T20:40:20.548720Z",
     "shell.execute_reply": "2024-12-04T20:40:20.547979Z"
    },
    "papermill": {
     "duration": 0.024787,
     "end_time": "2024-12-04T20:40:20.550531",
     "exception": false,
     "start_time": "2024-12-04T20:40:20.525744",
     "status": "completed"
    },
    "tags": []
   },
   "outputs": [],
   "source": [
    "train_df.duration_dt.fillna(train_df.duration_dt.mean(), inplace=True)"
   ]
  },
  {
   "cell_type": "code",
   "execution_count": 21,
   "id": "629cc5df",
   "metadata": {
    "execution": {
     "iopub.execute_input": "2024-12-04T20:40:20.570462Z",
     "iopub.status.busy": "2024-12-04T20:40:20.570194Z",
     "iopub.status.idle": "2024-12-04T20:40:21.097152Z",
     "shell.execute_reply": "2024-12-04T20:40:21.096200Z"
    },
    "papermill": {
     "duration": 0.539009,
     "end_time": "2024-12-04T20:40:21.099050",
     "exception": false,
     "start_time": "2024-12-04T20:40:20.560041",
     "status": "completed"
    },
    "tags": []
   },
   "outputs": [
    {
     "data": {
      "text/plain": [
       "(606454, 14)"
      ]
     },
     "execution_count": 21,
     "metadata": {},
     "output_type": "execute_result"
    }
   ],
   "source": [
    "train_df2=train_df[train_df.duration_dt.isin(range(110))]\n",
    "train_df2.shape"
   ]
  },
  {
   "cell_type": "code",
   "execution_count": 22,
   "id": "7c672576",
   "metadata": {
    "execution": {
     "iopub.execute_input": "2024-12-04T20:40:21.119362Z",
     "iopub.status.busy": "2024-12-04T20:40:21.119107Z",
     "iopub.status.idle": "2024-12-04T20:40:21.133669Z",
     "shell.execute_reply": "2024-12-04T20:40:21.132926Z"
    },
    "papermill": {
     "duration": 0.02651,
     "end_time": "2024-12-04T20:40:21.135336",
     "exception": false,
     "start_time": "2024-12-04T20:40:21.108826",
     "status": "completed"
    },
    "tags": []
   },
   "outputs": [
    {
     "data": {
      "text/plain": [
       "rating\n",
       "0    7.943815\n",
       "1    6.722896\n",
       "2    6.891846\n",
       "3    6.196238\n",
       "4    5.557041\n",
       "5    5.320184\n",
       "Name: duration_dt, dtype: float64"
      ]
     },
     "execution_count": 22,
     "metadata": {},
     "output_type": "execute_result"
    }
   ],
   "source": [
    "train_df2.groupby('rating').duration_dt.mean()"
   ]
  },
  {
   "cell_type": "code",
   "execution_count": 23,
   "id": "1b90e34f",
   "metadata": {
    "execution": {
     "iopub.execute_input": "2024-12-04T20:40:21.155755Z",
     "iopub.status.busy": "2024-12-04T20:40:21.155059Z",
     "iopub.status.idle": "2024-12-04T20:40:21.172295Z",
     "shell.execute_reply": "2024-12-04T20:40:21.171544Z"
    },
    "papermill": {
     "duration": 0.029385,
     "end_time": "2024-12-04T20:40:21.174113",
     "exception": false,
     "start_time": "2024-12-04T20:40:21.144728",
     "status": "completed"
    },
    "tags": []
   },
   "outputs": [
    {
     "data": {
      "text/html": [
       "<div>\n",
       "<style scoped>\n",
       "    .dataframe tbody tr th:only-of-type {\n",
       "        vertical-align: middle;\n",
       "    }\n",
       "\n",
       "    .dataframe tbody tr th {\n",
       "        vertical-align: top;\n",
       "    }\n",
       "\n",
       "    .dataframe thead th {\n",
       "        text-align: right;\n",
       "    }\n",
       "</style>\n",
       "<table border=\"1\" class=\"dataframe\">\n",
       "  <thead>\n",
       "    <tr style=\"text-align: right;\">\n",
       "      <th></th>\n",
       "      <th>rating</th>\n",
       "      <th>mean_n_days_to_read</th>\n",
       "    </tr>\n",
       "  </thead>\n",
       "  <tbody>\n",
       "    <tr>\n",
       "      <th>0</th>\n",
       "      <td>0</td>\n",
       "      <td>7.943815</td>\n",
       "    </tr>\n",
       "    <tr>\n",
       "      <th>1</th>\n",
       "      <td>1</td>\n",
       "      <td>6.722896</td>\n",
       "    </tr>\n",
       "    <tr>\n",
       "      <th>2</th>\n",
       "      <td>2</td>\n",
       "      <td>6.891846</td>\n",
       "    </tr>\n",
       "    <tr>\n",
       "      <th>3</th>\n",
       "      <td>3</td>\n",
       "      <td>6.196238</td>\n",
       "    </tr>\n",
       "    <tr>\n",
       "      <th>4</th>\n",
       "      <td>4</td>\n",
       "      <td>5.557041</td>\n",
       "    </tr>\n",
       "    <tr>\n",
       "      <th>5</th>\n",
       "      <td>5</td>\n",
       "      <td>5.320184</td>\n",
       "    </tr>\n",
       "  </tbody>\n",
       "</table>\n",
       "</div>"
      ],
      "text/plain": [
       "   rating  mean_n_days_to_read\n",
       "0       0             7.943815\n",
       "1       1             6.722896\n",
       "2       2             6.891846\n",
       "3       3             6.196238\n",
       "4       4             5.557041\n",
       "5       5             5.320184"
      ]
     },
     "execution_count": 23,
     "metadata": {},
     "output_type": "execute_result"
    }
   ],
   "source": [
    "rat_mean_days=train_df2.groupby('rating').duration_dt.mean().reset_index()\n",
    "rat_mean_days.rename({'duration_dt':'mean_n_days_to_read'}, axis=1, inplace=True)\n",
    "rat_mean_days"
   ]
  },
  {
   "cell_type": "code",
   "execution_count": 24,
   "id": "5637f5ce",
   "metadata": {
    "execution": {
     "iopub.execute_input": "2024-12-04T20:40:21.195489Z",
     "iopub.status.busy": "2024-12-04T20:40:21.195016Z",
     "iopub.status.idle": "2024-12-04T20:40:21.404962Z",
     "shell.execute_reply": "2024-12-04T20:40:21.404132Z"
    },
    "papermill": {
     "duration": 0.22216,
     "end_time": "2024-12-04T20:40:21.406766",
     "exception": false,
     "start_time": "2024-12-04T20:40:21.184606",
     "status": "completed"
    },
    "tags": []
   },
   "outputs": [
    {
     "data": {
      "image/png": "[encoded data removed]",
      "text/plain": [
       "<Figure size 432x288 with 1 Axes>"
      ]
     },
     "metadata": {},
     "output_type": "display_data"
    }
   ],
   "source": [
    "barchart(rat_mean_days, 'rating', 'mean_n_days_to_read')"
   ]
  },
  {
   "cell_type": "code",
   "execution_count": 25,
   "id": "0f6c8bfc",
   "metadata": {
    "execution": {
     "iopub.execute_input": "2024-12-04T20:40:21.427465Z",
     "iopub.status.busy": "2024-12-04T20:40:21.427205Z",
     "iopub.status.idle": "2024-12-04T21:03:03.134889Z",
     "shell.execute_reply": "2024-12-04T21:03:03.133892Z"
    },
    "papermill": {
     "duration": 1361.731736,
     "end_time": "2024-12-04T21:03:03.148533",
     "exception": false,
     "start_time": "2024-12-04T20:40:21.416797",
     "status": "completed"
    },
    "tags": []
   },
   "outputs": [
    {
     "name": "stderr",
     "output_type": "stream",
     "text": [
      "/opt/conda/lib/python3.7/site-packages/ipykernel_launcher.py:1: SettingWithCopyWarning: \n",
      "A value is trying to be set on a copy of a slice from a DataFrame.\n",
      "Try using .loc[row_indexer,col_indexer] = value instead\n",
      "\n",
      "See the caveats in the documentation: https://pandas.pydata.org/pandas-docs/stable/user_guide/indexing.html#returning-a-view-versus-a-copy\n",
      "  \"\"\"Entry point for launching an IPython kernel.\n"
     ]
    }
   ],
   "source": [
    "train_df2['review_clean']=train_df2['review_text'].apply(preprocess_review)"
   ]
  },
  {
   "cell_type": "code",
   "execution_count": 26,
   "id": "d9484e01",
   "metadata": {
    "execution": {
     "iopub.execute_input": "2024-12-04T21:03:03.168923Z",
     "iopub.status.busy": "2024-12-04T21:03:03.168615Z",
     "iopub.status.idle": "2024-12-04T21:03:03.557178Z",
     "shell.execute_reply": "2024-12-04T21:03:03.556382Z"
    },
    "papermill": {
     "duration": 0.401007,
     "end_time": "2024-12-04T21:03:03.559231",
     "exception": false,
     "start_time": "2024-12-04T21:03:03.158224",
     "status": "completed"
    },
    "tags": []
   },
   "outputs": [],
   "source": [
    "features='n_votes n_comments duration_dt review_clean rating'.split()\n",
    "X=train_df2[features]\n",
    "Y=X.pop('rating')"
   ]
  },
  {
   "cell_type": "code",
   "execution_count": 27,
   "id": "d6c58e27",
   "metadata": {
    "execution": {
     "iopub.execute_input": "2024-12-04T21:03:03.580448Z",
     "iopub.status.busy": "2024-12-04T21:03:03.580162Z",
     "iopub.status.idle": "2024-12-04T21:03:03.691300Z",
     "shell.execute_reply": "2024-12-04T21:03:03.690565Z"
    },
    "papermill": {
     "duration": 0.123805,
     "end_time": "2024-12-04T21:03:03.693377",
     "exception": false,
     "start_time": "2024-12-04T21:03:03.569572",
     "status": "completed"
    },
    "tags": []
   },
   "outputs": [],
   "source": [
    "X_train, X_test, Y_train, Y_test=train_test_split(X,Y, test_size=0.3, random_state=42)"
   ]
  },
  {
   "cell_type": "code",
   "execution_count": 28,
   "id": "4aed4f66",
   "metadata": {
    "execution": {
     "iopub.execute_input": "2024-12-04T21:03:03.714485Z",
     "iopub.status.busy": "2024-12-04T21:03:03.714189Z",
     "iopub.status.idle": "2024-12-04T21:03:48.250202Z",
     "shell.execute_reply": "2024-12-04T21:03:48.249466Z"
    },
    "papermill": {
     "duration": 44.548656,
     "end_time": "2024-12-04T21:03:48.252255",
     "exception": false,
     "start_time": "2024-12-04T21:03:03.703599",
     "status": "completed"
    },
    "tags": []
   },
   "outputs": [],
   "source": [
    "from scipy import sparse\n",
    "\n",
    "num_feats_train = X_train['n_votes n_comments duration_dt'.split()].values\n",
    "num_feats_test = X_test['n_votes n_comments duration_dt'.split()].values\n",
    "\n",
    "vectorizer = TfidfVectorizer()\n",
    "tf_x_train = vectorizer.fit_transform(X_train.review_clean)\n",
    "tf_x_test = vectorizer.transform(X_test.review_clean)\n",
    "\n",
    "tf_x_train = sparse.hstack((tf_x_train, num_feats_train))\n",
    "tf_x_test = sparse.hstack((tf_x_test, num_feats_test))"
   ]
  },
  {
   "cell_type": "markdown",
   "id": "f650f2bf",
   "metadata": {
    "papermill": {
     "duration": 0.009678,
     "end_time": "2024-12-04T21:03:48.272322",
     "exception": false,
     "start_time": "2024-12-04T21:03:48.262644",
     "status": "completed"
    },
    "tags": []
   },
   "source": [
    "### 1. LinearSVC"
   ]
  },
  {
   "cell_type": "code",
   "execution_count": 29,
   "id": "ef578bf8",
   "metadata": {
    "execution": {
     "iopub.execute_input": "2024-12-04T21:03:48.293014Z",
     "iopub.status.busy": "2024-12-04T21:03:48.292304Z",
     "iopub.status.idle": "2024-12-04T21:03:48.296248Z",
     "shell.execute_reply": "2024-12-04T21:03:48.295532Z"
    },
    "papermill": {
     "duration": 0.01611,
     "end_time": "2024-12-04T21:03:48.297974",
     "exception": false,
     "start_time": "2024-12-04T21:03:48.281864",
     "status": "completed"
    },
    "tags": []
   },
   "outputs": [],
   "source": [
    "from sklearn.svm import LinearSVC\n",
    "clf = LinearSVC(random_state=0)"
   ]
  },
  {
   "cell_type": "code",
   "execution_count": 30,
   "id": "df01d3ad",
   "metadata": {
    "execution": {
     "iopub.execute_input": "2024-12-04T21:03:48.317955Z",
     "iopub.status.busy": "2024-12-04T21:03:48.317731Z",
     "iopub.status.idle": "2024-12-04T21:30:45.023195Z",
     "shell.execute_reply": "2024-12-04T21:30:45.022097Z"
    },
    "papermill": {
     "duration": 1616.718023,
     "end_time": "2024-12-04T21:30:45.025493",
     "exception": false,
     "start_time": "2024-12-04T21:03:48.307470",
     "status": "completed"
    },
    "tags": []
   },
   "outputs": [
    {
     "name": "stderr",
     "output_type": "stream",
     "text": [
      "/opt/conda/lib/python3.7/site-packages/sklearn/svm/_base.py:1208: ConvergenceWarning: Liblinear failed to converge, increase the number of iterations.\n",
      "  ConvergenceWarning,\n"
     ]
    }
   ],
   "source": [
    "clf.fit(tf_x_train, Y_train)\n",
    "y_pred = clf.predict(tf_x_test)"
   ]
  },
  {
   "cell_type": "code",
   "execution_count": 31,
   "id": "0cc88b8e",
   "metadata": {
    "execution": {
     "iopub.execute_input": "2024-12-04T21:30:45.047476Z",
     "iopub.status.busy": "2024-12-04T21:30:45.047160Z",
     "iopub.status.idle": "2024-12-04T21:30:45.349541Z",
     "shell.execute_reply": "2024-12-04T21:30:45.348451Z"
    },
    "papermill": {
     "duration": 0.315349,
     "end_time": "2024-12-04T21:30:45.351449",
     "exception": false,
     "start_time": "2024-12-04T21:30:45.036100",
     "status": "completed"
    },
    "tags": []
   },
   "outputs": [
    {
     "name": "stdout",
     "output_type": "stream",
     "text": [
      "              precision    recall  f1-score   support\n",
      "\n",
      "           0       0.42      0.07      0.12      2577\n",
      "           1       0.40      0.25      0.30      4811\n",
      "           2       0.40      0.23      0.29     14272\n",
      "           3       0.45      0.37      0.41     38610\n",
      "           4       0.49      0.55      0.52     65885\n",
      "           5       0.58      0.67      0.62     55782\n",
      "\n",
      "    accuracy                           0.51    181937\n",
      "   macro avg       0.46      0.36      0.38    181937\n",
      "weighted avg       0.50      0.51      0.50    181937\n",
      "\n"
     ]
    }
   ],
   "source": [
    "from sklearn.metrics import classification_report\n",
    "print(classification_report(Y_test, y_pred))"
   ]
  },
  {
   "cell_type": "markdown",
   "id": "26afedd2",
   "metadata": {
    "papermill": {
     "duration": 0.009825,
     "end_time": "2024-12-04T21:30:45.371136",
     "exception": false,
     "start_time": "2024-12-04T21:30:45.361311",
     "status": "completed"
    },
    "tags": []
   },
   "source": [
    "#### Finding best parameters for model using cross validation (not applied on first run)"
   ]
  },
  {
   "cell_type": "code",
   "execution_count": 32,
   "id": "d04cf831",
   "metadata": {
    "execution": {
     "iopub.execute_input": "2024-12-04T21:30:45.391726Z",
     "iopub.status.busy": "2024-12-04T21:30:45.391446Z",
     "iopub.status.idle": "2024-12-04T21:30:45.395265Z",
     "shell.execute_reply": "2024-12-04T21:30:45.394436Z"
    },
    "papermill": {
     "duration": 0.015977,
     "end_time": "2024-12-04T21:30:45.396977",
     "exception": false,
     "start_time": "2024-12-04T21:30:45.381000",
     "status": "completed"
    },
    "tags": []
   },
   "outputs": [],
   "source": [
    "# param_grid = {'clf__n_estimators': np.linspace(1, 100, 10, dtype=int),\n",
    "#               'clf__min_samples_split': [3, 10],\n",
    "#               'clf__min_samples_leaf': [3],\n",
    "#               'clf__max_features': [7],\n",
    "#               'clf__max_depth': [None],\n",
    "#               'clf__criterion': ['gini'],\n",
    "#               'clf__bootstrap': [False]}"
   ]
  },
  {
   "cell_type": "code",
   "execution_count": 33,
   "id": "d606a316",
   "metadata": {
    "execution": {
     "iopub.execute_input": "2024-12-04T21:30:45.417327Z",
     "iopub.status.busy": "2024-12-04T21:30:45.417082Z",
     "iopub.status.idle": "2024-12-04T21:30:45.420664Z",
     "shell.execute_reply": "2024-12-04T21:30:45.419830Z"
    },
    "papermill": {
     "duration": 0.015694,
     "end_time": "2024-12-04T21:30:45.422314",
     "exception": false,
     "start_time": "2024-12-04T21:30:45.406620",
     "status": "completed"
    },
    "tags": []
   },
   "outputs": [],
   "source": [
    "# kfold = StratifiedKFold(n_splits=5)\n",
    "# scoring = {'Accuracy': 'accuracy', 'F1': 'f1_macro'}\n",
    "# refit = 'F1'"
   ]
  },
  {
   "cell_type": "code",
   "execution_count": 34,
   "id": "5753764b",
   "metadata": {
    "execution": {
     "iopub.execute_input": "2024-12-04T21:30:45.442824Z",
     "iopub.status.busy": "2024-12-04T21:30:45.442583Z",
     "iopub.status.idle": "2024-12-04T21:30:45.445797Z",
     "shell.execute_reply": "2024-12-04T21:30:45.445046Z"
    },
    "papermill": {
     "duration": 0.0153,
     "end_time": "2024-12-04T21:30:45.447387",
     "exception": false,
     "start_time": "2024-12-04T21:30:45.432087",
     "status": "completed"
    },
    "tags": []
   },
   "outputs": [],
   "source": [
    "# rf_model = GridSearchCV(clf, param_grid=param_grid, cv=kfold, scoring=scoring, \n",
    "#                          refit=refit, n_jobs=-1, return_train_score=True, verbose=1)\n",
    "# rf_model.fit(X_train, Y_train)\n",
    "# rf_best = rf_model.best_estimator_"
   ]
  },
  {
   "cell_type": "markdown",
   "id": "433b74f0",
   "metadata": {
    "papermill": {
     "duration": 0.009649,
     "end_time": "2024-12-04T21:30:45.466883",
     "exception": false,
     "start_time": "2024-12-04T21:30:45.457234",
     "status": "completed"
    },
    "tags": []
   },
   "source": [
    "### 2. Logistic Regression"
   ]
  },
  {
   "cell_type": "code",
   "execution_count": 35,
   "id": "c9133202",
   "metadata": {
    "execution": {
     "iopub.execute_input": "2024-12-04T21:30:45.487315Z",
     "iopub.status.busy": "2024-12-04T21:30:45.487072Z",
     "iopub.status.idle": "2024-12-04T21:30:45.490987Z",
     "shell.execute_reply": "2024-12-04T21:30:45.490155Z"
    },
    "papermill": {
     "duration": 0.015979,
     "end_time": "2024-12-04T21:30:45.492636",
     "exception": false,
     "start_time": "2024-12-04T21:30:45.476657",
     "status": "completed"
    },
    "tags": []
   },
   "outputs": [],
   "source": [
    "clf2 = LogisticRegression(max_iter=1000,solver='saga')"
   ]
  },
  {
   "cell_type": "code",
   "execution_count": 36,
   "id": "c5b0bbe2",
   "metadata": {
    "execution": {
     "iopub.execute_input": "2024-12-04T21:30:45.513382Z",
     "iopub.status.busy": "2024-12-04T21:30:45.513139Z",
     "iopub.status.idle": "2024-12-04T21:30:45.524772Z",
     "shell.execute_reply": "2024-12-04T21:30:45.524016Z"
    },
    "papermill": {
     "duration": 0.023934,
     "end_time": "2024-12-04T21:30:45.526401",
     "exception": false,
     "start_time": "2024-12-04T21:30:45.502467",
     "status": "completed"
    },
    "tags": []
   },
   "outputs": [
    {
     "data": {
      "text/html": [
       "<div>\n",
       "<style scoped>\n",
       "    .dataframe tbody tr th:only-of-type {\n",
       "        vertical-align: middle;\n",
       "    }\n",
       "\n",
       "    .dataframe tbody tr th {\n",
       "        vertical-align: top;\n",
       "    }\n",
       "\n",
       "    .dataframe thead th {\n",
       "        text-align: right;\n",
       "    }\n",
       "</style>\n",
       "<table border=\"1\" class=\"dataframe\">\n",
       "  <thead>\n",
       "    <tr style=\"text-align: right;\">\n",
       "      <th></th>\n",
       "      <th>rating</th>\n",
       "      <th>predicted_rating</th>\n",
       "    </tr>\n",
       "  </thead>\n",
       "  <tbody>\n",
       "    <tr>\n",
       "      <th>0</th>\n",
       "      <td>4</td>\n",
       "      <td>4</td>\n",
       "    </tr>\n",
       "    <tr>\n",
       "      <th>1</th>\n",
       "      <td>5</td>\n",
       "      <td>5</td>\n",
       "    </tr>\n",
       "    <tr>\n",
       "      <th>2</th>\n",
       "      <td>2</td>\n",
       "      <td>3</td>\n",
       "    </tr>\n",
       "    <tr>\n",
       "      <th>3</th>\n",
       "      <td>2</td>\n",
       "      <td>5</td>\n",
       "    </tr>\n",
       "    <tr>\n",
       "      <th>4</th>\n",
       "      <td>5</td>\n",
       "      <td>5</td>\n",
       "    </tr>\n",
       "    <tr>\n",
       "      <th>...</th>\n",
       "      <td>...</td>\n",
       "      <td>...</td>\n",
       "    </tr>\n",
       "    <tr>\n",
       "      <th>181932</th>\n",
       "      <td>4</td>\n",
       "      <td>5</td>\n",
       "    </tr>\n",
       "    <tr>\n",
       "      <th>181933</th>\n",
       "      <td>2</td>\n",
       "      <td>3</td>\n",
       "    </tr>\n",
       "    <tr>\n",
       "      <th>181934</th>\n",
       "      <td>3</td>\n",
       "      <td>3</td>\n",
       "    </tr>\n",
       "    <tr>\n",
       "      <th>181935</th>\n",
       "      <td>3</td>\n",
       "      <td>5</td>\n",
       "    </tr>\n",
       "    <tr>\n",
       "      <th>181936</th>\n",
       "      <td>1</td>\n",
       "      <td>1</td>\n",
       "    </tr>\n",
       "  </tbody>\n",
       "</table>\n",
       "<p>181937 rows × 2 columns</p>\n",
       "</div>"
      ],
      "text/plain": [
       "        rating  predicted_rating\n",
       "0            4                 4\n",
       "1            5                 5\n",
       "2            2                 3\n",
       "3            2                 5\n",
       "4            5                 5\n",
       "...        ...               ...\n",
       "181932       4                 5\n",
       "181933       2                 3\n",
       "181934       3                 3\n",
       "181935       3                 5\n",
       "181936       1                 1\n",
       "\n",
       "[181937 rows x 2 columns]"
      ]
     },
     "execution_count": 36,
     "metadata": {},
     "output_type": "execute_result"
    }
   ],
   "source": [
    "pd.concat([pd.Series(Y_test).reset_index(drop=True), pd.Series(y_pred).rename('predicted_rating').reset_index(drop=True)], axis=1)"
   ]
  },
  {
   "cell_type": "code",
   "execution_count": 37,
   "id": "28d3dbc1",
   "metadata": {
    "execution": {
     "iopub.execute_input": "2024-12-04T21:30:45.547556Z",
     "iopub.status.busy": "2024-12-04T21:30:45.547284Z",
     "iopub.status.idle": "2024-12-04T22:00:55.317976Z",
     "shell.execute_reply": "2024-12-04T22:00:55.317221Z"
    },
    "papermill": {
     "duration": 1809.783636,
     "end_time": "2024-12-04T22:00:55.320173",
     "exception": false,
     "start_time": "2024-12-04T21:30:45.536537",
     "status": "completed"
    },
    "tags": []
   },
   "outputs": [
    {
     "name": "stderr",
     "output_type": "stream",
     "text": [
      "/opt/conda/lib/python3.7/site-packages/sklearn/linear_model/_sag.py:354: ConvergenceWarning: The max_iter was reached which means the coef_ did not converge\n",
      "  ConvergenceWarning,\n"
     ]
    }
   ],
   "source": [
    "clf2.fit(tf_x_train, Y_train)\n",
    "y_pred = clf2.predict(tf_x_test)"
   ]
  },
  {
   "cell_type": "code",
   "execution_count": 38,
   "id": "c56d0266",
   "metadata": {
    "execution": {
     "iopub.execute_input": "2024-12-04T22:00:55.344716Z",
     "iopub.status.busy": "2024-12-04T22:00:55.344347Z",
     "iopub.status.idle": "2024-12-04T22:00:55.616657Z",
     "shell.execute_reply": "2024-12-04T22:00:55.615353Z"
    },
    "papermill": {
     "duration": 0.287514,
     "end_time": "2024-12-04T22:00:55.618654",
     "exception": false,
     "start_time": "2024-12-04T22:00:55.331140",
     "status": "completed"
    },
    "tags": []
   },
   "outputs": [
    {
     "name": "stdout",
     "output_type": "stream",
     "text": [
      "              precision    recall  f1-score   support\n",
      "\n",
      "           0       0.00      0.00      0.00      2577\n",
      "           1       0.00      0.00      0.00      4811\n",
      "           2       0.00      0.00      0.00     14272\n",
      "           3       0.00      0.00      0.00     38610\n",
      "           4       0.37      0.95      0.54     65885\n",
      "           5       0.66      0.17      0.27     55782\n",
      "\n",
      "    accuracy                           0.40    181937\n",
      "   macro avg       0.17      0.19      0.13    181937\n",
      "weighted avg       0.34      0.40      0.28    181937\n",
      "\n"
     ]
    },
    {
     "name": "stderr",
     "output_type": "stream",
     "text": [
      "/opt/conda/lib/python3.7/site-packages/sklearn/metrics/_classification.py:1318: UndefinedMetricWarning: Precision and F-score are ill-defined and being set to 0.0 in labels with no predicted samples. Use `zero_division` parameter to control this behavior.\n",
      "  _warn_prf(average, modifier, msg_start, len(result))\n",
      "/opt/conda/lib/python3.7/site-packages/sklearn/metrics/_classification.py:1318: UndefinedMetricWarning: Precision and F-score are ill-defined and being set to 0.0 in labels with no predicted samples. Use `zero_division` parameter to control this behavior.\n",
      "  _warn_prf(average, modifier, msg_start, len(result))\n",
      "/opt/conda/lib/python3.7/site-packages/sklearn/metrics/_classification.py:1318: UndefinedMetricWarning: Precision and F-score are ill-defined and being set to 0.0 in labels with no predicted samples. Use `zero_division` parameter to control this behavior.\n",
      "  _warn_prf(average, modifier, msg_start, len(result))\n"
     ]
    }
   ],
   "source": [
    "print(classification_report(Y_test, y_pred))"
   ]
  },
  {
   "cell_type": "markdown",
   "id": "2a8ed4dd",
   "metadata": {
    "papermill": {
     "duration": 0.010115,
     "end_time": "2024-12-04T22:00:55.639505",
     "exception": false,
     "start_time": "2024-12-04T22:00:55.629390",
     "status": "completed"
    },
    "tags": []
   },
   "source": [
    "## Classification on test set"
   ]
  },
  {
   "cell_type": "code",
   "execution_count": 39,
   "id": "4f2b6d4d",
   "metadata": {
    "execution": {
     "iopub.execute_input": "2024-12-04T22:00:55.660570Z",
     "iopub.status.busy": "2024-12-04T22:00:55.660277Z",
     "iopub.status.idle": "2024-12-04T22:01:06.133489Z",
     "shell.execute_reply": "2024-12-04T22:01:06.132667Z"
    },
    "papermill": {
     "duration": 10.485902,
     "end_time": "2024-12-04T22:01:06.135396",
     "exception": false,
     "start_time": "2024-12-04T22:00:55.649494",
     "status": "completed"
    },
    "tags": []
   },
   "outputs": [
    {
     "data": {
      "text/html": [
       "<div>\n",
       "<style scoped>\n",
       "    .dataframe tbody tr th:only-of-type {\n",
       "        vertical-align: middle;\n",
       "    }\n",
       "\n",
       "    .dataframe tbody tr th {\n",
       "        vertical-align: top;\n",
       "    }\n",
       "\n",
       "    .dataframe thead th {\n",
       "        text-align: right;\n",
       "    }\n",
       "</style>\n",
       "<table border=\"1\" class=\"dataframe\">\n",
       "  <thead>\n",
       "    <tr style=\"text-align: right;\">\n",
       "      <th></th>\n",
       "      <th>user_id</th>\n",
       "      <th>book_id</th>\n",
       "      <th>review_id</th>\n",
       "      <th>review_text</th>\n",
       "      <th>date_added</th>\n",
       "      <th>date_updated</th>\n",
       "      <th>read_at</th>\n",
       "      <th>started_at</th>\n",
       "      <th>n_votes</th>\n",
       "      <th>n_comments</th>\n",
       "    </tr>\n",
       "  </thead>\n",
       "  <tbody>\n",
       "    <tr>\n",
       "      <th>0</th>\n",
       "      <td>b9450d1c1f97f891c392b1105959b56e</td>\n",
       "      <td>7092507</td>\n",
       "      <td>5c4df7e70e9b438c761f07a4620ccb7c</td>\n",
       "      <td>** spoiler alert ** \\n This is definitely one of my favorites among the \"food books\" I've read! I loved the characters (Raggedy Ann and Ken Carson included)! Even though Kayla is a pessimist (which I usually dislike in a character), her personality is the perfect formula in the story. \\n Kayla is the school rebel, she wears unusual clothes, makes fun of the \"popular\" crowd in school, and she only have one friend in school---Nicole. Lately, things have been changing around her. Her mother bar...</td>\n",
       "      <td>Sat Nov 10 06:06:13 -0800 2012</td>\n",
       "      <td>Sun Nov 11 05:38:36 -0800 2012</td>\n",
       "      <td>Sun Nov 11 05:38:36 -0800 2012</td>\n",
       "      <td>Sat Nov 10 00:00:00 -0800 2012</td>\n",
       "      <td>1</td>\n",
       "      <td>0</td>\n",
       "    </tr>\n",
       "    <tr>\n",
       "      <th>1</th>\n",
       "      <td>b9450d1c1f97f891c392b1105959b56e</td>\n",
       "      <td>5576654</td>\n",
       "      <td>8eaeaf13213eeb16ad879a2a2591bbe5</td>\n",
       "      <td>** spoiler alert ** \\n \"You are what you drink.\" \\n I'm a huge fan of coffee but I don't buy my coffee in Starbucks or other coffee shops because I find it expensive. If you drink too much coffee like I do, it's economical to make it myself. LOL. So, I'm not very familiar with the kind of coffee and lattes being mentioned in the book. However, I find Jane's match making skills amusing. It sound unreal but interesting nonetheless. \\n Jane Turner is a teenage employee of Wired Joe's coffee sho...</td>\n",
       "      <td>Fri Nov 09 21:55:16 -0800 2012</td>\n",
       "      <td>Sat Nov 10 05:41:49 -0800 2012</td>\n",
       "      <td>Sat Nov 10 05:41:49 -0800 2012</td>\n",
       "      <td>Fri Nov 09 00:00:00 -0800 2012</td>\n",
       "      <td>1</td>\n",
       "      <td>0</td>\n",
       "    </tr>\n",
       "    <tr>\n",
       "      <th>2</th>\n",
       "      <td>b9450d1c1f97f891c392b1105959b56e</td>\n",
       "      <td>15754052</td>\n",
       "      <td>dce649b733c153ba5363a0413cac988f</td>\n",
       "      <td>Roar is one of my favorite characters in Under the Never Sky and I'm so happy to read his story. Roar is usually the happy and out going kind of guy but in this book we see his serious side. This novella left me wanting for more! I felt so bad for Liv and Roar...I hate Vale! How could he sell his own sister?!? Anyway, I hope Roar finds Liv in the next book!</td>\n",
       "      <td>Fri Nov 09 00:25:50 -0800 2012</td>\n",
       "      <td>Sat Nov 10 06:14:10 -0800 2012</td>\n",
       "      <td>Sat Nov 10 06:14:10 -0800 2012</td>\n",
       "      <td>Fri Nov 09 00:00:00 -0800 2012</td>\n",
       "      <td>0</td>\n",
       "      <td>0</td>\n",
       "    </tr>\n",
       "    <tr>\n",
       "      <th>3</th>\n",
       "      <td>b9450d1c1f97f891c392b1105959b56e</td>\n",
       "      <td>17020</td>\n",
       "      <td>8a46df0bb997269d6834f9437a4b0a77</td>\n",
       "      <td>** spoiler alert ** \\n If you feel like travelling to Europe and you don't have the money for it, read this book and you'll experience the beauty and madness of Europe! \\n When I read Aunt Peg's first envelope, I thought this is just a simple adventure she made up for Ginny. I thought she just want Ginny to loosen up a bit and try to have fun. However, as I continue reading her little blue envelopes, I realized that Aunt Peg want Ginny to get something more than just fun on her Europe escapa...</td>\n",
       "      <td>Thu Nov 01 00:28:39 -0700 2012</td>\n",
       "      <td>Sat Nov 03 11:35:22 -0700 2012</td>\n",
       "      <td>Sat Nov 03 11:35:22 -0700 2012</td>\n",
       "      <td>Thu Nov 01 00:00:00 -0700 2012</td>\n",
       "      <td>0</td>\n",
       "      <td>0</td>\n",
       "    </tr>\n",
       "    <tr>\n",
       "      <th>4</th>\n",
       "      <td>b9450d1c1f97f891c392b1105959b56e</td>\n",
       "      <td>12551082</td>\n",
       "      <td>d11d3091e22f1cf3cb865598de197599</td>\n",
       "      <td>3.5 stars \\n I read and enjoyed the first two novels from this series and I have to say that in this book I miss the \"sporty\" part of this supposedly sports contemporary novel. Anyhow, I still liked it and there were a lot of lessons pertaining to faith and religious belief. I have nothing against Christian novels, I read them occasionally and enjoy them most of the time. On this particular novel though, you have to understand that the heroine is a teenager and is in a process of finding her...</td>\n",
       "      <td>Thu Oct 18 00:57:00 -0700 2012</td>\n",
       "      <td>Mon Apr 01 23:00:51 -0700 2013</td>\n",
       "      <td>Sat Mar 30 00:00:00 -0700 2013</td>\n",
       "      <td>Fri Mar 29 00:00:00 -0700 2013</td>\n",
       "      <td>0</td>\n",
       "      <td>0</td>\n",
       "    </tr>\n",
       "  </tbody>\n",
       "</table>\n",
       "</div>"
      ],
      "text/plain": [
       "                            user_id   book_id                         review_id                                                                                                                                                                                                                                                                                                                                                                                                                                                                                                          review_text                      date_added                    date_updated                         read_at                      started_at  n_votes  n_comments\n",
       "0  b9450d1c1f97f891c392b1105959b56e   7092507  5c4df7e70e9b438c761f07a4620ccb7c  ** spoiler alert ** \\n This is definitely one of my favorites among the \"food books\" I've read! I loved the characters (Raggedy Ann and Ken Carson included)! Even though Kayla is a pessimist (which I usually dislike in a character), her personality is the perfect formula in the story. \\n Kayla is the school rebel, she wears unusual clothes, makes fun of the \"popular\" crowd in school, and she only have one friend in school---Nicole. Lately, things have been changing around her. Her mother bar...  Sat Nov 10 06:06:13 -0800 2012  Sun Nov 11 05:38:36 -0800 2012  Sun Nov 11 05:38:36 -0800 2012  Sat Nov 10 00:00:00 -0800 2012        1           0\n",
       "1  b9450d1c1f97f891c392b1105959b56e   5576654  8eaeaf13213eeb16ad879a2a2591bbe5  ** spoiler alert ** \\n \"You are what you drink.\" \\n I'm a huge fan of coffee but I don't buy my coffee in Starbucks or other coffee shops because I find it expensive. If you drink too much coffee like I do, it's economical to make it myself. LOL. So, I'm not very familiar with the kind of coffee and lattes being mentioned in the book. However, I find Jane's match making skills amusing. It sound unreal but interesting nonetheless. \\n Jane Turner is a teenage employee of Wired Joe's coffee sho...  Fri Nov 09 21:55:16 -0800 2012  Sat Nov 10 05:41:49 -0800 2012  Sat Nov 10 05:41:49 -0800 2012  Fri Nov 09 00:00:00 -0800 2012        1           0\n",
       "2  b9450d1c1f97f891c392b1105959b56e  15754052  dce649b733c153ba5363a0413cac988f                                                                                                                                              Roar is one of my favorite characters in Under the Never Sky and I'm so happy to read his story. Roar is usually the happy and out going kind of guy but in this book we see his serious side. This novella left me wanting for more! I felt so bad for Liv and Roar...I hate Vale! How could he sell his own sister?!? Anyway, I hope Roar finds Liv in the next book!  Fri Nov 09 00:25:50 -0800 2012  Sat Nov 10 06:14:10 -0800 2012  Sat Nov 10 06:14:10 -0800 2012  Fri Nov 09 00:00:00 -0800 2012        0           0\n",
       "3  b9450d1c1f97f891c392b1105959b56e     17020  8a46df0bb997269d6834f9437a4b0a77  ** spoiler alert ** \\n If you feel like travelling to Europe and you don't have the money for it, read this book and you'll experience the beauty and madness of Europe! \\n When I read Aunt Peg's first envelope, I thought this is just a simple adventure she made up for Ginny. I thought she just want Ginny to loosen up a bit and try to have fun. However, as I continue reading her little blue envelopes, I realized that Aunt Peg want Ginny to get something more than just fun on her Europe escapa...  Thu Nov 01 00:28:39 -0700 2012  Sat Nov 03 11:35:22 -0700 2012  Sat Nov 03 11:35:22 -0700 2012  Thu Nov 01 00:00:00 -0700 2012        0           0\n",
       "4  b9450d1c1f97f891c392b1105959b56e  12551082  d11d3091e22f1cf3cb865598de197599  3.5 stars \\n I read and enjoyed the first two novels from this series and I have to say that in this book I miss the \"sporty\" part of this supposedly sports contemporary novel. Anyhow, I still liked it and there were a lot of lessons pertaining to faith and religious belief. I have nothing against Christian novels, I read them occasionally and enjoy them most of the time. On this particular novel though, you have to understand that the heroine is a teenager and is in a process of finding her...  Thu Oct 18 00:57:00 -0700 2012  Mon Apr 01 23:00:51 -0700 2013  Sat Mar 30 00:00:00 -0700 2013  Fri Mar 29 00:00:00 -0700 2013        0           0"
      ]
     },
     "execution_count": 39,
     "metadata": {},
     "output_type": "execute_result"
    }
   ],
   "source": [
    "test_df=pd.read_csv('/kaggle/input/goodreads-books-reviews-290312/goodreads_test.csv')\n",
    "test_df.head()"
   ]
  },
  {
   "cell_type": "code",
   "execution_count": 40,
   "id": "5d719a93",
   "metadata": {
    "execution": {
     "iopub.execute_input": "2024-12-04T22:01:06.157752Z",
     "iopub.status.busy": "2024-12-04T22:01:06.157493Z",
     "iopub.status.idle": "2024-12-04T22:01:06.341311Z",
     "shell.execute_reply": "2024-12-04T22:01:06.340466Z"
    },
    "papermill": {
     "duration": 0.196789,
     "end_time": "2024-12-04T22:01:06.343031",
     "exception": false,
     "start_time": "2024-12-04T22:01:06.146242",
     "status": "completed"
    },
    "tags": []
   },
   "outputs": [
    {
     "data": {
      "text/plain": [
       "user_id              0\n",
       "book_id              0\n",
       "review_id            0\n",
       "review_text          0\n",
       "date_added           0\n",
       "date_updated         0\n",
       "read_at          42478\n",
       "started_at      143044\n",
       "n_votes              0\n",
       "n_comments           0\n",
       "dtype: int64"
      ]
     },
     "execution_count": 40,
     "metadata": {},
     "output_type": "execute_result"
    }
   ],
   "source": [
    "test_df.isnull().sum()"
   ]
  },
  {
   "cell_type": "code",
   "execution_count": 41,
   "id": "b384ae27",
   "metadata": {
    "execution": {
     "iopub.execute_input": "2024-12-04T22:01:06.366539Z",
     "iopub.status.busy": "2024-12-04T22:01:06.366234Z",
     "iopub.status.idle": "2024-12-04T22:01:18.022921Z",
     "shell.execute_reply": "2024-12-04T22:01:18.021879Z"
    },
    "papermill": {
     "duration": 11.671381,
     "end_time": "2024-12-04T22:01:18.025126",
     "exception": false,
     "start_time": "2024-12-04T22:01:06.353745",
     "status": "completed"
    },
    "tags": []
   },
   "outputs": [],
   "source": [
    "from datetime import datetime\n",
    "test_df['started_at_dt'] = test_df.started_at.apply(lambda x : parse_date(x))\n",
    "test_df['read_at_dt'] = test_df.read_at.apply(lambda x : parse_date(x))\n",
    "test_df['duration_dt'] = test_df.read_at_dt - test_df.started_at_dt"
   ]
  },
  {
   "cell_type": "code",
   "execution_count": 42,
   "id": "da07b6e5",
   "metadata": {
    "execution": {
     "iopub.execute_input": "2024-12-04T22:01:18.047903Z",
     "iopub.status.busy": "2024-12-04T22:01:18.047600Z",
     "iopub.status.idle": "2024-12-04T22:01:18.567270Z",
     "shell.execute_reply": "2024-12-04T22:01:18.566528Z"
    },
    "papermill": {
     "duration": 0.533648,
     "end_time": "2024-12-04T22:01:18.569827",
     "exception": false,
     "start_time": "2024-12-04T22:01:18.036179",
     "status": "completed"
    },
    "tags": []
   },
   "outputs": [],
   "source": [
    "test_df.duration_dt=test_df.duration_dt.astype(str).apply(lambda x: 'nan' if 'nan' in x else(x[:x.find('days')] if 'days' in x else 0)).astype('float64')"
   ]
  },
  {
   "cell_type": "code",
   "execution_count": 43,
   "id": "5c34f84d",
   "metadata": {
    "execution": {
     "iopub.execute_input": "2024-12-04T22:01:18.593125Z",
     "iopub.status.busy": "2024-12-04T22:01:18.592851Z",
     "iopub.status.idle": "2024-12-04T22:01:18.601605Z",
     "shell.execute_reply": "2024-12-04T22:01:18.600724Z"
    },
    "papermill": {
     "duration": 0.021997,
     "end_time": "2024-12-04T22:01:18.603321",
     "exception": false,
     "start_time": "2024-12-04T22:01:18.581324",
     "status": "completed"
    },
    "tags": []
   },
   "outputs": [],
   "source": [
    "test_df.duration_dt.fillna(test_df.duration_dt.mean(), inplace=True)"
   ]
  },
  {
   "cell_type": "code",
   "execution_count": 44,
   "id": "ba0d6c03",
   "metadata": {
    "execution": {
     "iopub.execute_input": "2024-12-04T22:01:18.627068Z",
     "iopub.status.busy": "2024-12-04T22:01:18.626508Z",
     "iopub.status.idle": "2024-12-04T22:18:04.752509Z",
     "shell.execute_reply": "2024-12-04T22:18:04.751466Z"
    },
    "papermill": {
     "duration": 1006.139646,
     "end_time": "2024-12-04T22:18:04.754982",
     "exception": false,
     "start_time": "2024-12-04T22:01:18.615336",
     "status": "completed"
    },
    "tags": []
   },
   "outputs": [],
   "source": [
    "test_df['review_clean']=test_df['review_text'].apply(preprocess_review)"
   ]
  },
  {
   "cell_type": "code",
   "execution_count": 45,
   "id": "9421aecb",
   "metadata": {
    "execution": {
     "iopub.execute_input": "2024-12-04T22:18:04.778229Z",
     "iopub.status.busy": "2024-12-04T22:18:04.777950Z",
     "iopub.status.idle": "2024-12-04T22:18:04.793190Z",
     "shell.execute_reply": "2024-12-04T22:18:04.792281Z"
    },
    "papermill": {
     "duration": 0.028396,
     "end_time": "2024-12-04T22:18:04.794843",
     "exception": false,
     "start_time": "2024-12-04T22:18:04.766447",
     "status": "completed"
    },
    "tags": []
   },
   "outputs": [
    {
     "data": {
      "text/html": [
       "<div>\n",
       "<style scoped>\n",
       "    .dataframe tbody tr th:only-of-type {\n",
       "        vertical-align: middle;\n",
       "    }\n",
       "\n",
       "    .dataframe tbody tr th {\n",
       "        vertical-align: top;\n",
       "    }\n",
       "\n",
       "    .dataframe thead th {\n",
       "        text-align: right;\n",
       "    }\n",
       "</style>\n",
       "<table border=\"1\" class=\"dataframe\">\n",
       "  <thead>\n",
       "    <tr style=\"text-align: right;\">\n",
       "      <th></th>\n",
       "      <th>user_id</th>\n",
       "      <th>book_id</th>\n",
       "      <th>review_id</th>\n",
       "      <th>review_text</th>\n",
       "      <th>date_added</th>\n",
       "      <th>date_updated</th>\n",
       "      <th>read_at</th>\n",
       "      <th>started_at</th>\n",
       "      <th>n_votes</th>\n",
       "      <th>n_comments</th>\n",
       "      <th>started_at_dt</th>\n",
       "      <th>read_at_dt</th>\n",
       "      <th>duration_dt</th>\n",
       "      <th>review_clean</th>\n",
       "    </tr>\n",
       "  </thead>\n",
       "  <tbody>\n",
       "    <tr>\n",
       "      <th>0</th>\n",
       "      <td>b9450d1c1f97f891c392b1105959b56e</td>\n",
       "      <td>7092507</td>\n",
       "      <td>5c4df7e70e9b438c761f07a4620ccb7c</td>\n",
       "      <td>** spoiler alert ** \\n This is definitely one of my favorites among the \"food books\" I've read! I loved the characters (Raggedy Ann and Ken Carson included)! Even though Kayla is a pessimist (which I usually dislike in a character), her personality is the perfect formula in the story. \\n Kayla is the school rebel, she wears unusual clothes, makes fun of the \"popular\" crowd in school, and she only have one friend in school---Nicole. Lately, things have been changing around her. Her mother bar...</td>\n",
       "      <td>Sat Nov 10 06:06:13 -0800 2012</td>\n",
       "      <td>Sun Nov 11 05:38:36 -0800 2012</td>\n",
       "      <td>Sun Nov 11 05:38:36 -0800 2012</td>\n",
       "      <td>Sat Nov 10 00:00:00 -0800 2012</td>\n",
       "      <td>1</td>\n",
       "      <td>0</td>\n",
       "      <td>2012-11-10 00:00:00-08:00</td>\n",
       "      <td>2012-11-11 05:38:36-08:00</td>\n",
       "      <td>0.0</td>\n",
       "      <td>** spoiler alert **  definit one favorit among \"food books\" i'v read! love charact (raggedi ann ken carson included)! even though kayla pessimist (which usual dislik character), person perfect formula story.  kayla school rebel, wear unusu clothes, make fun \"popular\" crowd school, one friend school---nicole. lately, thing chang around her. mother bare talk best friend date long-tim crush ben! disastr  birthday party, made wish make birthday wish come true. follow day wake pink poni backyard!...</td>\n",
       "    </tr>\n",
       "    <tr>\n",
       "      <th>1</th>\n",
       "      <td>b9450d1c1f97f891c392b1105959b56e</td>\n",
       "      <td>5576654</td>\n",
       "      <td>8eaeaf13213eeb16ad879a2a2591bbe5</td>\n",
       "      <td>** spoiler alert ** \\n \"You are what you drink.\" \\n I'm a huge fan of coffee but I don't buy my coffee in Starbucks or other coffee shops because I find it expensive. If you drink too much coffee like I do, it's economical to make it myself. LOL. So, I'm not very familiar with the kind of coffee and lattes being mentioned in the book. However, I find Jane's match making skills amusing. It sound unreal but interesting nonetheless. \\n Jane Turner is a teenage employee of Wired Joe's coffee sho...</td>\n",
       "      <td>Fri Nov 09 21:55:16 -0800 2012</td>\n",
       "      <td>Sat Nov 10 05:41:49 -0800 2012</td>\n",
       "      <td>Sat Nov 10 05:41:49 -0800 2012</td>\n",
       "      <td>Fri Nov 09 00:00:00 -0800 2012</td>\n",
       "      <td>1</td>\n",
       "      <td>0</td>\n",
       "      <td>2012-11-09 00:00:00-08:00</td>\n",
       "      <td>2012-11-10 05:41:49-08:00</td>\n",
       "      <td>0.0</td>\n",
       "      <td>** spoiler alert **  \"you drink.\"  i'm huge fan coffe buy coffe starbuck coffe shop find expensive. drink much coffe like do, econom make myself. lol. so, i'm familiar kind coffe latt mention book. however, find jane' match make skill amusing. sound unreal interest nonetheless.  jane turner teenag employe wire joe' coffe shop. work barista predict customer' order look them. keep notebook write observations. one day, one favorit regular broke girlfriend jane got idea set co-worker' friend. fi...</td>\n",
       "    </tr>\n",
       "    <tr>\n",
       "      <th>2</th>\n",
       "      <td>b9450d1c1f97f891c392b1105959b56e</td>\n",
       "      <td>15754052</td>\n",
       "      <td>dce649b733c153ba5363a0413cac988f</td>\n",
       "      <td>Roar is one of my favorite characters in Under the Never Sky and I'm so happy to read his story. Roar is usually the happy and out going kind of guy but in this book we see his serious side. This novella left me wanting for more! I felt so bad for Liv and Roar...I hate Vale! How could he sell his own sister?!? Anyway, I hope Roar finds Liv in the next book!</td>\n",
       "      <td>Fri Nov 09 00:25:50 -0800 2012</td>\n",
       "      <td>Sat Nov 10 06:14:10 -0800 2012</td>\n",
       "      <td>Sat Nov 10 06:14:10 -0800 2012</td>\n",
       "      <td>Fri Nov 09 00:00:00 -0800 2012</td>\n",
       "      <td>0</td>\n",
       "      <td>0</td>\n",
       "      <td>2012-11-09 00:00:00-08:00</td>\n",
       "      <td>2012-11-10 06:14:10-08:00</td>\n",
       "      <td>0.0</td>\n",
       "      <td>roar one favorit charact never sky i'm happi read story. roar usual happi go kind guy book see seriou side. novella left want more! felt bad liv roar...i hate vale! could sell sister?!? anyway, hope roar find liv next book!</td>\n",
       "    </tr>\n",
       "    <tr>\n",
       "      <th>3</th>\n",
       "      <td>b9450d1c1f97f891c392b1105959b56e</td>\n",
       "      <td>17020</td>\n",
       "      <td>8a46df0bb997269d6834f9437a4b0a77</td>\n",
       "      <td>** spoiler alert ** \\n If you feel like travelling to Europe and you don't have the money for it, read this book and you'll experience the beauty and madness of Europe! \\n When I read Aunt Peg's first envelope, I thought this is just a simple adventure she made up for Ginny. I thought she just want Ginny to loosen up a bit and try to have fun. However, as I continue reading her little blue envelopes, I realized that Aunt Peg want Ginny to get something more than just fun on her Europe escapa...</td>\n",
       "      <td>Thu Nov 01 00:28:39 -0700 2012</td>\n",
       "      <td>Sat Nov 03 11:35:22 -0700 2012</td>\n",
       "      <td>Sat Nov 03 11:35:22 -0700 2012</td>\n",
       "      <td>Thu Nov 01 00:00:00 -0700 2012</td>\n",
       "      <td>0</td>\n",
       "      <td>0</td>\n",
       "      <td>2012-11-01 00:00:00-07:00</td>\n",
       "      <td>2012-11-03 11:35:22-07:00</td>\n",
       "      <td>2.0</td>\n",
       "      <td>** spoiler alert **  feel like travel europ money it, read book experi beauti mad europe!  read aunt peg' first envelope, thought simpl adventur made ginny. thought want ginni loosen bit tri fun. however, continu read littl blue envelopes, realiz aunt peg want ginni get someth fun europ escapade. sometim find aunt peg' instruct crazi unsafe...not bring cellphon example, call help case emergency? one instruct ginni ask guy rome---sh almost got rape guy!  anyway, find ginny' charact admirable....</td>\n",
       "    </tr>\n",
       "    <tr>\n",
       "      <th>4</th>\n",
       "      <td>b9450d1c1f97f891c392b1105959b56e</td>\n",
       "      <td>12551082</td>\n",
       "      <td>d11d3091e22f1cf3cb865598de197599</td>\n",
       "      <td>3.5 stars \\n I read and enjoyed the first two novels from this series and I have to say that in this book I miss the \"sporty\" part of this supposedly sports contemporary novel. Anyhow, I still liked it and there were a lot of lessons pertaining to faith and religious belief. I have nothing against Christian novels, I read them occasionally and enjoy them most of the time. On this particular novel though, you have to understand that the heroine is a teenager and is in a process of finding her...</td>\n",
       "      <td>Thu Oct 18 00:57:00 -0700 2012</td>\n",
       "      <td>Mon Apr 01 23:00:51 -0700 2013</td>\n",
       "      <td>Sat Mar 30 00:00:00 -0700 2013</td>\n",
       "      <td>Fri Mar 29 00:00:00 -0700 2013</td>\n",
       "      <td>0</td>\n",
       "      <td>0</td>\n",
       "      <td>2013-03-29 00:00:00-07:00</td>\n",
       "      <td>2013-03-30 00:00:00-07:00</td>\n",
       "      <td>0.0</td>\n",
       "      <td>. star  read enjoy first two novel seri say book miss \"sporty\" part supposedli sport contemporari novel. anyhow, still like lot lesson pertain faith religi belief. noth christian novels, read occasion enjoy time. particular novel though, understand heroin teenag process find herself. patient kate keep open mind read long littl confused. also re-evalu choic decis made past months.  kate rais christian famili regular church attende forrest sanctuari life. (note: steal parker, parker use go chu...</td>\n",
       "    </tr>\n",
       "  </tbody>\n",
       "</table>\n",
       "</div>"
      ],
      "text/plain": [
       "                            user_id   book_id                         review_id                                                                                                                                                                                                                                                                                                                                                                                                                                                                                                          review_text                      date_added                    date_updated                         read_at                      started_at  n_votes  n_comments              started_at_dt                 read_at_dt  duration_dt  \\\n",
       "0  b9450d1c1f97f891c392b1105959b56e   7092507  5c4df7e70e9b438c761f07a4620ccb7c  ** spoiler alert ** \\n This is definitely one of my favorites among the \"food books\" I've read! I loved the characters (Raggedy Ann and Ken Carson included)! Even though Kayla is a pessimist (which I usually dislike in a character), her personality is the perfect formula in the story. \\n Kayla is the school rebel, she wears unusual clothes, makes fun of the \"popular\" crowd in school, and she only have one friend in school---Nicole. Lately, things have been changing around her. Her mother bar...  Sat Nov 10 06:06:13 -0800 2012  Sun Nov 11 05:38:36 -0800 2012  Sun Nov 11 05:38:36 -0800 2012  Sat Nov 10 00:00:00 -0800 2012        1           0  2012-11-10 00:00:00-08:00  2012-11-11 05:38:36-08:00          0.0   \n",
       "1  b9450d1c1f97f891c392b1105959b56e   5576654  8eaeaf13213eeb16ad879a2a2591bbe5  ** spoiler alert ** \\n \"You are what you drink.\" \\n I'm a huge fan of coffee but I don't buy my coffee in Starbucks or other coffee shops because I find it expensive. If you drink too much coffee like I do, it's economical to make it myself. LOL. So, I'm not very familiar with the kind of coffee and lattes being mentioned in the book. However, I find Jane's match making skills amusing. It sound unreal but interesting nonetheless. \\n Jane Turner is a teenage employee of Wired Joe's coffee sho...  Fri Nov 09 21:55:16 -0800 2012  Sat Nov 10 05:41:49 -0800 2012  Sat Nov 10 05:41:49 -0800 2012  Fri Nov 09 00:00:00 -0800 2012        1           0  2012-11-09 00:00:00-08:00  2012-11-10 05:41:49-08:00          0.0   \n",
       "2  b9450d1c1f97f891c392b1105959b56e  15754052  dce649b733c153ba5363a0413cac988f                                                                                                                                              Roar is one of my favorite characters in Under the Never Sky and I'm so happy to read his story. Roar is usually the happy and out going kind of guy but in this book we see his serious side. This novella left me wanting for more! I felt so bad for Liv and Roar...I hate Vale! How could he sell his own sister?!? Anyway, I hope Roar finds Liv in the next book!  Fri Nov 09 00:25:50 -0800 2012  Sat Nov 10 06:14:10 -0800 2012  Sat Nov 10 06:14:10 -0800 2012  Fri Nov 09 00:00:00 -0800 2012        0           0  2012-11-09 00:00:00-08:00  2012-11-10 06:14:10-08:00          0.0   \n",
       "3  b9450d1c1f97f891c392b1105959b56e     17020  8a46df0bb997269d6834f9437a4b0a77  ** spoiler alert ** \\n If you feel like travelling to Europe and you don't have the money for it, read this book and you'll experience the beauty and madness of Europe! \\n When I read Aunt Peg's first envelope, I thought this is just a simple adventure she made up for Ginny. I thought she just want Ginny to loosen up a bit and try to have fun. However, as I continue reading her little blue envelopes, I realized that Aunt Peg want Ginny to get something more than just fun on her Europe escapa...  Thu Nov 01 00:28:39 -0700 2012  Sat Nov 03 11:35:22 -0700 2012  Sat Nov 03 11:35:22 -0700 2012  Thu Nov 01 00:00:00 -0700 2012        0           0  2012-11-01 00:00:00-07:00  2012-11-03 11:35:22-07:00          2.0   \n",
       "4  b9450d1c1f97f891c392b1105959b56e  12551082  d11d3091e22f1cf3cb865598de197599  3.5 stars \\n I read and enjoyed the first two novels from this series and I have to say that in this book I miss the \"sporty\" part of this supposedly sports contemporary novel. Anyhow, I still liked it and there were a lot of lessons pertaining to faith and religious belief. I have nothing against Christian novels, I read them occasionally and enjoy them most of the time. On this particular novel though, you have to understand that the heroine is a teenager and is in a process of finding her...  Thu Oct 18 00:57:00 -0700 2012  Mon Apr 01 23:00:51 -0700 2013  Sat Mar 30 00:00:00 -0700 2013  Fri Mar 29 00:00:00 -0700 2013        0           0  2013-03-29 00:00:00-07:00  2013-03-30 00:00:00-07:00          0.0   \n",
       "\n",
       "                                                                                                                                                                                                                                                                                                                                                                                                                                                                                                          review_clean  \n",
       "0  ** spoiler alert **  definit one favorit among \"food books\" i'v read! love charact (raggedi ann ken carson included)! even though kayla pessimist (which usual dislik character), person perfect formula story.  kayla school rebel, wear unusu clothes, make fun \"popular\" crowd school, one friend school---nicole. lately, thing chang around her. mother bare talk best friend date long-tim crush ben! disastr  birthday party, made wish make birthday wish come true. follow day wake pink poni backyard!...  \n",
       "1  ** spoiler alert **  \"you drink.\"  i'm huge fan coffe buy coffe starbuck coffe shop find expensive. drink much coffe like do, econom make myself. lol. so, i'm familiar kind coffe latt mention book. however, find jane' match make skill amusing. sound unreal interest nonetheless.  jane turner teenag employe wire joe' coffe shop. work barista predict customer' order look them. keep notebook write observations. one day, one favorit regular broke girlfriend jane got idea set co-worker' friend. fi...  \n",
       "2                                                                                                                                                                                                                                                                                      roar one favorit charact never sky i'm happi read story. roar usual happi go kind guy book see seriou side. novella left want more! felt bad liv roar...i hate vale! could sell sister?!? anyway, hope roar find liv next book!  \n",
       "3  ** spoiler alert **  feel like travel europ money it, read book experi beauti mad europe!  read aunt peg' first envelope, thought simpl adventur made ginny. thought want ginni loosen bit tri fun. however, continu read littl blue envelopes, realiz aunt peg want ginni get someth fun europ escapade. sometim find aunt peg' instruct crazi unsafe...not bring cellphon example, call help case emergency? one instruct ginni ask guy rome---sh almost got rape guy!  anyway, find ginny' charact admirable....  \n",
       "4  . star  read enjoy first two novel seri say book miss \"sporty\" part supposedli sport contemporari novel. anyhow, still like lot lesson pertain faith religi belief. noth christian novels, read occasion enjoy time. particular novel though, understand heroin teenag process find herself. patient kate keep open mind read long littl confused. also re-evalu choic decis made past months.  kate rais christian famili regular church attende forrest sanctuari life. (note: steal parker, parker use go chu...  "
      ]
     },
     "execution_count": 45,
     "metadata": {},
     "output_type": "execute_result"
    }
   ],
   "source": [
    "test_df.head()"
   ]
  },
  {
   "cell_type": "code",
   "execution_count": 46,
   "id": "4eece5a1",
   "metadata": {
    "execution": {
     "iopub.execute_input": "2024-12-04T22:18:04.821351Z",
     "iopub.status.busy": "2024-12-04T22:18:04.821074Z",
     "iopub.status.idle": "2024-12-04T22:18:36.886265Z",
     "shell.execute_reply": "2024-12-04T22:18:36.885523Z"
    },
    "papermill": {
     "duration": 32.08198,
     "end_time": "2024-12-04T22:18:36.888444",
     "exception": false,
     "start_time": "2024-12-04T22:18:04.806464",
     "status": "completed"
    },
    "tags": []
   },
   "outputs": [],
   "source": [
    "test_review_vect=vectorizer.transform(test_df.review_clean)"
   ]
  },
  {
   "cell_type": "code",
   "execution_count": 47,
   "id": "98fa6eed",
   "metadata": {
    "execution": {
     "iopub.execute_input": "2024-12-04T22:18:36.912706Z",
     "iopub.status.busy": "2024-12-04T22:18:36.911967Z",
     "iopub.status.idle": "2024-12-04T22:18:37.158262Z",
     "shell.execute_reply": "2024-12-04T22:18:37.157551Z"
    },
    "papermill": {
     "duration": 0.259898,
     "end_time": "2024-12-04T22:18:37.160169",
     "exception": false,
     "start_time": "2024-12-04T22:18:36.900271",
     "status": "completed"
    },
    "tags": []
   },
   "outputs": [],
   "source": [
    "test_num_feats=test_df['n_votes n_comments duration_dt'.split()].values"
   ]
  },
  {
   "cell_type": "code",
   "execution_count": 48,
   "id": "178464bd",
   "metadata": {
    "execution": {
     "iopub.execute_input": "2024-12-04T22:18:37.183807Z",
     "iopub.status.busy": "2024-12-04T22:18:37.183530Z",
     "iopub.status.idle": "2024-12-04T22:18:38.085778Z",
     "shell.execute_reply": "2024-12-04T22:18:38.084979Z"
    },
    "papermill": {
     "duration": 0.916577,
     "end_time": "2024-12-04T22:18:38.088059",
     "exception": false,
     "start_time": "2024-12-04T22:18:37.171482",
     "status": "completed"
    },
    "tags": []
   },
   "outputs": [],
   "source": [
    "test_input=sparse.hstack((test_review_vect, test_num_feats))"
   ]
  },
  {
   "cell_type": "code",
   "execution_count": 49,
   "id": "a03a3b31",
   "metadata": {
    "execution": {
     "iopub.execute_input": "2024-12-04T22:18:38.111960Z",
     "iopub.status.busy": "2024-12-04T22:18:38.111671Z",
     "iopub.status.idle": "2024-12-04T22:18:40.789400Z",
     "shell.execute_reply": "2024-12-04T22:18:40.788691Z"
    },
    "papermill": {
     "duration": 2.69179,
     "end_time": "2024-12-04T22:18:40.791507",
     "exception": false,
     "start_time": "2024-12-04T22:18:38.099717",
     "status": "completed"
    },
    "tags": []
   },
   "outputs": [],
   "source": [
    "test_df['rating']=clf.predict(test_input)"
   ]
  },
  {
   "cell_type": "code",
   "execution_count": 50,
   "id": "809b1bd9",
   "metadata": {
    "execution": {
     "iopub.execute_input": "2024-12-04T22:18:40.815057Z",
     "iopub.status.busy": "2024-12-04T22:18:40.814776Z",
     "iopub.status.idle": "2024-12-04T22:18:41.485759Z",
     "shell.execute_reply": "2024-12-04T22:18:41.485023Z"
    },
    "papermill": {
     "duration": 0.684836,
     "end_time": "2024-12-04T22:18:41.487828",
     "exception": false,
     "start_time": "2024-12-04T22:18:40.802992",
     "status": "completed"
    },
    "tags": []
   },
   "outputs": [],
   "source": [
    "test_df['review_id rating'.split()].to_csv(r'goodreads_submission.csv', index=False)"
   ]
  }
 ],
 "metadata": {
  "kaggle": {
   "accelerator": "nvidiaTeslaT4",
   "dataSources": [
    {
     "databundleVersionId": 3073370,
     "sourceId": 33579,
     "sourceType": "competition"
    }
   ],
   "dockerImageVersionId": 30357,
   "isGpuEnabled": true,
   "isInternetEnabled": true,
   "language": "python",
   "sourceType": "notebook"
  },
  "kernelspec": {
   "display_name": "Python 3",
   "language": "python",
   "name": "python3"
  },
  "language_info": {
   "codemirror_mode": {
    "name": "ipython",
    "version": 3
   },
   "file_extension": ".py",
   "mimetype": "text/x-python",
   "name": "python",
   "nbconvert_exporter": "python",
   "pygments_lexer": "ipython3",
   "version": "3.7.12"
  },
  "papermill": {
   "default_parameters": {},
   "duration": 5965.587467,
   "end_time": "2024-12-04T22:18:43.027446",
   "environment_variables": {},
   "exception": null,
   "input_path": "__notebook__.ipynb",
   "output_path": "__notebook__.ipynb",
   "parameters": {},
   "start_time": "2024-12-04T20:39:17.439979",
   "version": "2.3.4"
  }
 },
 "nbformat": 4,
 "nbformat_minor": 5
}
